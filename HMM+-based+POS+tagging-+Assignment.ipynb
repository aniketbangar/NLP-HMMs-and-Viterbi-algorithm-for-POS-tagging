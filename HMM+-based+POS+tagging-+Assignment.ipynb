{
 "cells": [
  {
   "cell_type": "markdown",
   "metadata": {},
   "source": [
    "## POS tagging using modified Viterbi"
   ]
  },
  {
   "cell_type": "markdown",
   "metadata": {},
   "source": [
    "### Data Preparation"
   ]
  },
  {
   "cell_type": "code",
   "execution_count": 1,
   "metadata": {},
   "outputs": [],
   "source": [
    "#Importing libraries\n",
    "import nltk, re, pprint, random,time\n",
    "import numpy as np\n",
    "import pandas as pd\n",
    "from sklearn.model_selection import train_test_split\n",
    "import matplotlib.pyplot as plt\n",
    "import seaborn as sns\n",
    "from nltk.tokenize import word_tokenize\n",
    "\n"
   ]
  },
  {
   "cell_type": "code",
   "execution_count": 2,
   "metadata": {},
   "outputs": [],
   "source": [
    "# reading the Treebank tagged sentences\n",
    "nltk_data = list(nltk.corpus.treebank.tagged_sents(tagset='universal'))"
   ]
  },
  {
   "cell_type": "code",
   "execution_count": 3,
   "metadata": {},
   "outputs": [
    {
     "name": "stdout",
     "output_type": "stream",
     "text": [
      "[[('Pierre', 'NOUN'), ('Vinken', 'NOUN'), (',', '.'), ('61', 'NUM'), ('years', 'NOUN'), ('old', 'ADJ'), (',', '.'), ('will', 'VERB'), ('join', 'VERB'), ('the', 'DET'), ('board', 'NOUN'), ('as', 'ADP'), ('a', 'DET'), ('nonexecutive', 'ADJ'), ('director', 'NOUN'), ('Nov.', 'NOUN'), ('29', 'NUM'), ('.', '.')], [('Mr.', 'NOUN'), ('Vinken', 'NOUN'), ('is', 'VERB'), ('chairman', 'NOUN'), ('of', 'ADP'), ('Elsevier', 'NOUN'), ('N.V.', 'NOUN'), (',', '.'), ('the', 'DET'), ('Dutch', 'NOUN'), ('publishing', 'VERB'), ('group', 'NOUN'), ('.', '.')], [('Rudolph', 'NOUN'), ('Agnew', 'NOUN'), (',', '.'), ('55', 'NUM'), ('years', 'NOUN'), ('old', 'ADJ'), ('and', 'CONJ'), ('former', 'ADJ'), ('chairman', 'NOUN'), ('of', 'ADP'), ('Consolidated', 'NOUN'), ('Gold', 'NOUN'), ('Fields', 'NOUN'), ('PLC', 'NOUN'), (',', '.'), ('was', 'VERB'), ('named', 'VERB'), ('*-1', 'X'), ('a', 'DET'), ('nonexecutive', 'ADJ'), ('director', 'NOUN'), ('of', 'ADP'), ('this', 'DET'), ('British', 'ADJ'), ('industrial', 'ADJ'), ('conglomerate', 'NOUN'), ('.', '.')], [('A', 'DET'), ('form', 'NOUN'), ('of', 'ADP'), ('asbestos', 'NOUN'), ('once', 'ADV'), ('used', 'VERB'), ('*', 'X'), ('*', 'X'), ('to', 'PRT'), ('make', 'VERB'), ('Kent', 'NOUN'), ('cigarette', 'NOUN'), ('filters', 'NOUN'), ('has', 'VERB'), ('caused', 'VERB'), ('a', 'DET'), ('high', 'ADJ'), ('percentage', 'NOUN'), ('of', 'ADP'), ('cancer', 'NOUN'), ('deaths', 'NOUN'), ('among', 'ADP'), ('a', 'DET'), ('group', 'NOUN'), ('of', 'ADP'), ('workers', 'NOUN'), ('exposed', 'VERB'), ('*', 'X'), ('to', 'PRT'), ('it', 'PRON'), ('more', 'ADV'), ('than', 'ADP'), ('30', 'NUM'), ('years', 'NOUN'), ('ago', 'ADP'), (',', '.'), ('researchers', 'NOUN'), ('reported', 'VERB'), ('0', 'X'), ('*T*-1', 'X'), ('.', '.')], [('The', 'DET'), ('asbestos', 'NOUN'), ('fiber', 'NOUN'), (',', '.'), ('crocidolite', 'NOUN'), (',', '.'), ('is', 'VERB'), ('unusually', 'ADV'), ('resilient', 'ADJ'), ('once', 'ADP'), ('it', 'PRON'), ('enters', 'VERB'), ('the', 'DET'), ('lungs', 'NOUN'), (',', '.'), ('with', 'ADP'), ('even', 'ADV'), ('brief', 'ADJ'), ('exposures', 'NOUN'), ('to', 'PRT'), ('it', 'PRON'), ('causing', 'VERB'), ('symptoms', 'NOUN'), ('that', 'DET'), ('*T*-1', 'X'), ('show', 'VERB'), ('up', 'PRT'), ('decades', 'NOUN'), ('later', 'ADJ'), (',', '.'), ('researchers', 'NOUN'), ('said', 'VERB'), ('0', 'X'), ('*T*-2', 'X'), ('.', '.')], [('Lorillard', 'NOUN'), ('Inc.', 'NOUN'), (',', '.'), ('the', 'DET'), ('unit', 'NOUN'), ('of', 'ADP'), ('New', 'ADJ'), ('York-based', 'ADJ'), ('Loews', 'NOUN'), ('Corp.', 'NOUN'), ('that', 'DET'), ('*T*-2', 'X'), ('makes', 'VERB'), ('Kent', 'NOUN'), ('cigarettes', 'NOUN'), (',', '.'), ('stopped', 'VERB'), ('using', 'VERB'), ('crocidolite', 'NOUN'), ('in', 'ADP'), ('its', 'PRON'), ('Micronite', 'NOUN'), ('cigarette', 'NOUN'), ('filters', 'NOUN'), ('in', 'ADP'), ('1956', 'NUM'), ('.', '.')], [('Although', 'ADP'), ('preliminary', 'ADJ'), ('findings', 'NOUN'), ('were', 'VERB'), ('reported', 'VERB'), ('*-2', 'X'), ('more', 'ADV'), ('than', 'ADP'), ('a', 'DET'), ('year', 'NOUN'), ('ago', 'ADP'), (',', '.'), ('the', 'DET'), ('latest', 'ADJ'), ('results', 'NOUN'), ('appear', 'VERB'), ('in', 'ADP'), ('today', 'NOUN'), (\"'s\", 'PRT'), ('New', 'NOUN'), ('England', 'NOUN'), ('Journal', 'NOUN'), ('of', 'ADP'), ('Medicine', 'NOUN'), (',', '.'), ('a', 'DET'), ('forum', 'NOUN'), ('likely', 'ADJ'), ('*', 'X'), ('to', 'PRT'), ('bring', 'VERB'), ('new', 'ADJ'), ('attention', 'NOUN'), ('to', 'PRT'), ('the', 'DET'), ('problem', 'NOUN'), ('.', '.')], [('A', 'DET'), ('Lorillard', 'NOUN'), ('spokewoman', 'NOUN'), ('said', 'VERB'), (',', '.'), ('``', '.'), ('This', 'DET'), ('is', 'VERB'), ('an', 'DET'), ('old', 'ADJ'), ('story', 'NOUN'), ('.', '.')], [('We', 'PRON'), (\"'re\", 'VERB'), ('talking', 'VERB'), ('about', 'ADP'), ('years', 'NOUN'), ('ago', 'ADP'), ('before', 'ADP'), ('anyone', 'NOUN'), ('heard', 'VERB'), ('of', 'ADP'), ('asbestos', 'NOUN'), ('having', 'VERB'), ('any', 'DET'), ('questionable', 'ADJ'), ('properties', 'NOUN'), ('.', '.')], [('There', 'DET'), ('is', 'VERB'), ('no', 'DET'), ('asbestos', 'NOUN'), ('in', 'ADP'), ('our', 'PRON'), ('products', 'NOUN'), ('now', 'ADV'), ('.', '.'), (\"''\", '.')], [('Neither', 'DET'), ('Lorillard', 'NOUN'), ('nor', 'CONJ'), ('the', 'DET'), ('researchers', 'NOUN'), ('who', 'PRON'), ('*T*-3', 'X'), ('studied', 'VERB'), ('the', 'DET'), ('workers', 'NOUN'), ('were', 'VERB'), ('aware', 'ADJ'), ('of', 'ADP'), ('any', 'DET'), ('research', 'NOUN'), ('on', 'ADP'), ('smokers', 'NOUN'), ('of', 'ADP'), ('the', 'DET'), ('Kent', 'NOUN'), ('cigarettes', 'NOUN'), ('.', '.')], [('``', '.'), ('We', 'PRON'), ('have', 'VERB'), ('no', 'DET'), ('useful', 'ADJ'), ('information', 'NOUN'), ('on', 'ADP'), ('whether', 'ADP'), ('users', 'NOUN'), ('are', 'VERB'), ('at', 'ADP'), ('risk', 'NOUN'), (',', '.'), (\"''\", '.'), ('said', 'VERB'), ('*T*-1', 'X'), ('James', 'NOUN'), ('A.', 'NOUN'), ('Talcott', 'NOUN'), ('of', 'ADP'), ('Boston', 'NOUN'), (\"'s\", 'PRT'), ('Dana-Farber', 'NOUN'), ('Cancer', 'NOUN'), ('Institute', 'NOUN'), ('.', '.')], [('Dr.', 'NOUN'), ('Talcott', 'NOUN'), ('led', 'VERB'), ('a', 'DET'), ('team', 'NOUN'), ('of', 'ADP'), ('researchers', 'NOUN'), ('from', 'ADP'), ('the', 'DET'), ('National', 'NOUN'), ('Cancer', 'NOUN'), ('Institute', 'NOUN'), ('and', 'CONJ'), ('the', 'DET'), ('medical', 'ADJ'), ('schools', 'NOUN'), ('of', 'ADP'), ('Harvard', 'NOUN'), ('University', 'NOUN'), ('and', 'CONJ'), ('Boston', 'NOUN'), ('University', 'NOUN'), ('.', '.')], [('The', 'DET'), ('Lorillard', 'NOUN'), ('spokeswoman', 'NOUN'), ('said', 'VERB'), ('0', 'X'), ('asbestos', 'NOUN'), ('was', 'VERB'), ('used', 'VERB'), ('*-1', 'X'), ('in', 'ADP'), ('``', '.'), ('very', 'ADV'), ('modest', 'ADJ'), ('amounts', 'NOUN'), (\"''\", '.'), ('in', 'ADP'), ('*', 'X'), ('making', 'VERB'), ('paper', 'NOUN'), ('for', 'ADP'), ('the', 'DET'), ('filters', 'NOUN'), ('in', 'ADP'), ('the', 'DET'), ('early', 'ADJ'), ('1950s', 'NUM'), ('and', 'CONJ'), ('replaced', 'VERB'), ('*-1', 'X'), ('with', 'ADP'), ('a', 'DET'), ('different', 'ADJ'), ('type', 'NOUN'), ('of', 'ADP'), ('filter', 'NOUN'), ('in', 'ADP'), ('1956', 'NUM'), ('.', '.')], [('From', 'ADP'), ('1953', 'NUM'), ('to', 'PRT'), ('1955', 'NUM'), (',', '.'), ('9.8', 'NUM'), ('billion', 'NUM'), ('Kent', 'NOUN'), ('cigarettes', 'NOUN'), ('with', 'ADP'), ('the', 'DET'), ('filters', 'NOUN'), ('were', 'VERB'), ('sold', 'VERB'), ('*-3', 'X'), (',', '.'), ('the', 'DET'), ('company', 'NOUN'), ('said', 'VERB'), ('0', 'X'), ('*T*-1', 'X'), ('.', '.')], [('Among', 'ADP'), ('33', 'NUM'), ('men', 'NOUN'), ('who', 'PRON'), ('*T*-4', 'X'), ('worked', 'VERB'), ('closely', 'ADV'), ('with', 'ADP'), ('the', 'DET'), ('substance', 'NOUN'), (',', '.'), ('28', 'NUM'), ('*ICH*-1', 'X'), ('have', 'VERB'), ('died', 'VERB'), ('--', '.'), ('more', 'ADJ'), ('than', 'ADP'), ('three', 'NUM'), ('times', 'NOUN'), ('the', 'DET'), ('expected', 'VERB'), ('number', 'NOUN'), ('.', '.')], [('Four', 'NUM'), ('of', 'ADP'), ('the', 'DET'), ('five', 'NUM'), ('surviving', 'VERB'), ('workers', 'NOUN'), ('have', 'VERB'), ('asbestos-related', 'ADJ'), ('diseases', 'NOUN'), (',', '.'), ('including', 'VERB'), ('three', 'NUM'), ('with', 'ADP'), ('recently', 'ADV'), ('diagnosed', 'VERB'), ('cancer', 'NOUN'), ('.', '.')], [('The', 'DET'), ('total', 'NOUN'), ('of', 'ADP'), ('18', 'NUM'), ('deaths', 'NOUN'), ('from', 'ADP'), ('malignant', 'ADJ'), ('mesothelioma', 'NOUN'), (',', '.'), ('lung', 'NOUN'), ('cancer', 'NOUN'), ('and', 'CONJ'), ('asbestosis', 'NOUN'), ('was', 'VERB'), ('far', 'ADV'), ('higher', 'ADJ'), ('than', 'ADP'), ('*', 'X'), ('expected', 'VERB'), ('*?*', 'X'), (',', '.'), ('the', 'DET'), ('researchers', 'NOUN'), ('said', 'VERB'), ('0', 'X'), ('*T*-1', 'X'), ('.', '.')], [('``', '.'), ('The', 'DET'), ('morbidity', 'NOUN'), ('rate', 'NOUN'), ('is', 'VERB'), ('a', 'DET'), ('striking', 'ADJ'), ('finding', 'NOUN'), ('among', 'ADP'), ('those', 'DET'), ('of', 'ADP'), ('us', 'PRON'), ('who', 'PRON'), ('*T*-5', 'X'), ('study', 'VERB'), ('asbestos-related', 'ADJ'), ('diseases', 'NOUN'), (',', '.'), (\"''\", '.'), ('said', 'VERB'), ('*T*-1', 'X'), ('Dr.', 'NOUN'), ('Talcott', 'NOUN'), ('.', '.')], [('The', 'DET'), ('percentage', 'NOUN'), ('of', 'ADP'), ('lung', 'NOUN'), ('cancer', 'NOUN'), ('deaths', 'NOUN'), ('among', 'ADP'), ('the', 'DET'), ('workers', 'NOUN'), ('at', 'ADP'), ('the', 'DET'), ('West', 'NOUN'), ('Groton', 'NOUN'), (',', '.'), ('Mass.', 'NOUN'), (',', '.'), ('paper', 'NOUN'), ('factory', 'NOUN'), ('appears', 'VERB'), ('*-1', 'X'), ('to', 'PRT'), ('be', 'VERB'), ('the', 'DET'), ('highest', 'ADJ'), ('for', 'ADP'), ('any', 'DET'), ('asbestos', 'NOUN'), ('workers', 'NOUN'), ('studied', 'VERB'), ('*', 'X'), ('in', 'ADP'), ('Western', 'ADJ'), ('industrialized', 'VERB'), ('countries', 'NOUN'), (',', '.'), ('he', 'PRON'), ('said', 'VERB'), ('0', 'X'), ('*T*-2', 'X'), ('.', '.')], [('The', 'DET'), ('plant', 'NOUN'), (',', '.'), ('which', 'DET'), ('*T*-1', 'X'), ('is', 'VERB'), ('owned', 'VERB'), ('*-4', 'X'), ('by', 'ADP'), ('Hollingsworth', 'NOUN'), ('&', 'CONJ'), ('Vose', 'NOUN'), ('Co.', 'NOUN'), (',', '.'), ('was', 'VERB'), ('under', 'ADP'), ('contract', 'NOUN'), ('*ICH*-2', 'X'), ('with', 'ADP'), ('Lorillard', 'NOUN'), ('*', 'X'), ('to', 'PRT'), ('make', 'VERB'), ('the', 'DET'), ('cigarette', 'NOUN'), ('filters', 'NOUN'), ('.', '.')], [('The', 'DET'), ('finding', 'NOUN'), ('probably', 'ADV'), ('will', 'VERB'), ('support', 'VERB'), ('those', 'DET'), ('who', 'PRON'), ('*T*-6', 'X'), ('argue', 'VERB'), ('that', 'ADP'), ('the', 'DET'), ('U.S.', 'NOUN'), ('should', 'VERB'), ('regulate', 'VERB'), ('the', 'DET'), ('class', 'NOUN'), ('of', 'ADP'), ('asbestos', 'NOUN'), ('including', 'VERB'), ('crocidolite', 'NOUN'), ('more', 'ADV'), ('stringently', 'ADV'), ('than', 'ADP'), ('the', 'DET'), ('common', 'ADJ'), ('kind', 'NOUN'), ('of', 'ADP'), ('asbestos', 'NOUN'), (',', '.'), ('chrysotile', 'NOUN'), (',', '.'), ('found', 'VERB'), ('*', 'X'), ('in', 'ADP'), ('most', 'ADJ'), ('schools', 'NOUN'), ('and', 'CONJ'), ('other', 'ADJ'), ('buildings', 'NOUN'), (',', '.'), ('Dr.', 'NOUN'), ('Talcott', 'NOUN'), ('said', 'VERB'), ('0', 'X'), ('*T*-1', 'X'), ('.', '.')], [('The', 'DET'), ('U.S.', 'NOUN'), ('is', 'VERB'), ('one', 'NUM'), ('of', 'ADP'), ('the', 'DET'), ('few', 'ADJ'), ('industrialized', 'VERB'), ('nations', 'NOUN'), ('that', 'DET'), ('*T*-7', 'X'), ('does', 'VERB'), (\"n't\", 'ADV'), ('have', 'VERB'), ('a', 'DET'), ('higher', 'ADJ'), ('standard', 'NOUN'), ('of', 'ADP'), ('regulation', 'NOUN'), ('for', 'ADP'), ('the', 'DET'), ('smooth', 'ADJ'), (',', '.'), ('needle-like', 'ADJ'), ('fibers', 'NOUN'), ('such', 'ADJ'), ('as', 'ADP'), ('crocidolite', 'NOUN'), ('that', 'DET'), ('*T*-1', 'X'), ('are', 'VERB'), ('classified', 'VERB'), ('*-5', 'X'), ('as', 'ADP'), ('amphobiles', 'NOUN'), (',', '.'), ('according', 'VERB'), ('to', 'PRT'), ('Brooke', 'NOUN'), ('T.', 'NOUN'), ('Mossman', 'NOUN'), (',', '.'), ('a', 'DET'), ('professor', 'NOUN'), ('of', 'ADP'), ('pathlogy', 'NOUN'), ('at', 'ADP'), ('the', 'DET'), ('University', 'NOUN'), ('of', 'ADP'), ('Vermont', 'NOUN'), ('College', 'NOUN'), ('of', 'ADP'), ('Medicine', 'NOUN'), ('.', '.')], [('More', 'ADV'), ('common', 'ADJ'), ('chrysotile', 'NOUN'), ('fibers', 'NOUN'), ('are', 'VERB'), ('curly', 'ADJ'), ('and', 'CONJ'), ('are', 'VERB'), ('more', 'ADV'), ('easily', 'ADV'), ('rejected', 'VERB'), ('*-1', 'X'), ('by', 'ADP'), ('the', 'DET'), ('body', 'NOUN'), (',', '.'), ('Dr.', 'NOUN'), ('Mossman', 'NOUN'), ('explained', 'VERB'), ('0', 'X'), ('*T*-2', 'X'), ('.', '.')], [('In', 'ADP'), ('July', 'NOUN'), (',', '.'), ('the', 'DET'), ('Environmental', 'NOUN'), ('Protection', 'NOUN'), ('Agency', 'NOUN'), ('imposed', 'VERB'), ('a', 'DET'), ('gradual', 'ADJ'), ('ban', 'NOUN'), ('on', 'ADP'), ('virtually', 'ADV'), ('all', 'DET'), ('uses', 'NOUN'), ('of', 'ADP'), ('asbestos', 'NOUN'), ('.', '.')], [('By', 'ADP'), ('1997', 'NUM'), (',', '.'), ('almost', 'ADV'), ('all', 'DET'), ('remaining', 'VERB'), ('uses', 'NOUN'), ('of', 'ADP'), ('cancer-causing', 'ADJ'), ('asbestos', 'NOUN'), ('will', 'VERB'), ('be', 'VERB'), ('outlawed', 'VERB'), ('*-6', 'X'), ('.', '.')], [('About', 'ADP'), ('160', 'NUM'), ('workers', 'NOUN'), ('at', 'ADP'), ('a', 'DET'), ('factory', 'NOUN'), ('that', 'DET'), ('*T*-8', 'X'), ('made', 'VERB'), ('paper', 'NOUN'), ('for', 'ADP'), ('the', 'DET'), ('Kent', 'NOUN'), ('filters', 'NOUN'), ('were', 'VERB'), ('exposed', 'VERB'), ('*-7', 'X'), ('to', 'PRT'), ('asbestos', 'NOUN'), ('in', 'ADP'), ('the', 'DET'), ('1950s', 'NUM'), ('.', '.')], [('Areas', 'NOUN'), ('of', 'ADP'), ('the', 'DET'), ('factory', 'NOUN'), ('*ICH*-2', 'X'), ('were', 'VERB'), ('particularly', 'ADV'), ('dusty', 'ADJ'), ('where', 'ADV'), ('the', 'DET'), ('crocidolite', 'NOUN'), ('was', 'VERB'), ('used', 'VERB'), ('*-8', 'X'), ('*T*-1', 'X'), ('.', '.')], [('Workers', 'NOUN'), ('dumped', 'VERB'), ('large', 'ADJ'), ('burlap', 'NOUN'), ('sacks', 'NOUN'), ('of', 'ADP'), ('the', 'DET'), ('imported', 'VERB'), ('material', 'NOUN'), ('into', 'ADP'), ('a', 'DET'), ('huge', 'ADJ'), ('bin', 'NOUN'), (',', '.'), ('poured', 'VERB'), ('in', 'PRT'), ('cotton', 'NOUN'), ('and', 'CONJ'), ('acetate', 'NOUN'), ('fibers', 'NOUN'), ('and', 'CONJ'), ('mechanically', 'ADV'), ('mixed', 'VERB'), ('the', 'DET'), ('dry', 'ADJ'), ('fibers', 'NOUN'), ('in', 'ADP'), ('a', 'DET'), ('process', 'NOUN'), ('used', 'VERB'), ('*', 'X'), ('*', 'X'), ('to', 'PRT'), ('make', 'VERB'), ('filters', 'NOUN'), ('.', '.')], [('Workers', 'NOUN'), ('described', 'VERB'), ('``', '.'), ('clouds', 'NOUN'), ('of', 'ADP'), ('blue', 'ADJ'), ('dust', 'NOUN'), (\"''\", '.'), ('that', 'DET'), ('*T*-1', 'X'), ('hung', 'VERB'), ('over', 'ADP'), ('parts', 'NOUN'), ('of', 'ADP'), ('the', 'DET'), ('factory', 'NOUN'), (',', '.'), ('even', 'ADV'), ('though', 'ADP'), ('exhaust', 'NOUN'), ('fans', 'NOUN'), ('ventilated', 'VERB'), ('the', 'DET'), ('area', 'NOUN'), ('.', '.')], [('``', '.'), ('There', 'DET'), (\"'s\", 'VERB'), ('no', 'DET'), ('question', 'NOUN'), ('that', 'ADP'), ('some', 'DET'), ('of', 'ADP'), ('those', 'DET'), ('workers', 'NOUN'), ('and', 'CONJ'), ('managers', 'NOUN'), ('contracted', 'VERB'), ('asbestos-related', 'ADJ'), ('diseases', 'NOUN'), (',', '.'), (\"''\", '.'), ('said', 'VERB'), ('*T*-1', 'X'), ('Darrell', 'NOUN'), ('Phillips', 'NOUN'), (',', '.'), ('vice', 'NOUN'), ('president', 'NOUN'), ('of', 'ADP'), ('human', 'ADJ'), ('resources', 'NOUN'), ('for', 'ADP'), ('Hollingsworth', 'NOUN'), ('&', 'CONJ'), ('Vose', 'NOUN'), ('.', '.')], [('``', '.'), ('But', 'CONJ'), ('you', 'PRON'), ('have', 'VERB'), ('*-1', 'X'), ('to', 'PRT'), ('recognize', 'VERB'), ('that', 'ADP'), ('these', 'DET'), ('events', 'NOUN'), ('took', 'VERB'), ('place', 'NOUN'), ('35', 'NUM'), ('years', 'NOUN'), ('ago', 'ADP'), ('.', '.')], [('It', 'PRON'), ('has', 'VERB'), ('no', 'DET'), ('bearing', 'NOUN'), ('on', 'ADP'), ('our', 'PRON'), ('work', 'NOUN'), ('force', 'NOUN'), ('today', 'NOUN'), ('.', '.')], [('Yields', 'NOUN'), ('on', 'ADP'), ('money-market', 'ADJ'), ('mutual', 'ADJ'), ('funds', 'NOUN'), ('continued', 'VERB'), ('*-1', 'X'), ('to', 'PRT'), ('slide', 'VERB'), (',', '.'), ('amid', 'ADP'), ('signs', 'NOUN'), ('that', 'ADP'), ('portfolio', 'NOUN'), ('managers', 'NOUN'), ('expect', 'VERB'), ('further', 'ADJ'), ('declines', 'NOUN'), ('in', 'ADP'), ('interest', 'NOUN'), ('rates', 'NOUN'), ('.', '.')], [('The', 'DET'), ('average', 'ADJ'), ('seven-day', 'ADJ'), ('compound', 'NOUN'), ('yield', 'NOUN'), ('of', 'ADP'), ('the', 'DET'), ('400', 'NUM'), ('taxable', 'ADJ'), ('funds', 'NOUN'), ('tracked', 'VERB'), ('*', 'X'), ('by', 'ADP'), ('IBC', 'NOUN'), (\"'s\", 'PRT'), ('Money', 'NOUN'), ('Fund', 'NOUN'), ('Report', 'NOUN'), ('eased', 'VERB'), ('a', 'DET'), ('fraction', 'NOUN'), ('of', 'ADP'), ('a', 'DET'), ('percentage', 'NOUN'), ('point', 'NOUN'), ('to', 'PRT'), ('8.45', 'NUM'), ('%', 'NOUN'), ('from', 'ADP'), ('8.47', 'NUM'), ('%', 'NOUN'), ('for', 'ADP'), ('the', 'DET'), ('week', 'NOUN'), ('ended', 'VERB'), ('Tuesday', 'NOUN'), ('.', '.')], [('Compound', 'NOUN'), ('yields', 'NOUN'), ('assume', 'VERB'), ('reinvestment', 'NOUN'), ('of', 'ADP'), ('dividends', 'NOUN'), ('and', 'CONJ'), ('that', 'ADP'), ('the', 'DET'), ('current', 'ADJ'), ('yield', 'NOUN'), ('continues', 'VERB'), ('for', 'ADP'), ('a', 'DET'), ('year', 'NOUN'), ('.', '.')], [('Average', 'ADJ'), ('maturity', 'NOUN'), ('of', 'ADP'), ('the', 'DET'), ('funds', 'NOUN'), (\"'\", 'PRT'), ('investments', 'NOUN'), ('lengthened', 'VERB'), ('by', 'ADP'), ('a', 'DET'), ('day', 'NOUN'), ('to', 'PRT'), ('41', 'NUM'), ('days', 'NOUN'), (',', '.'), ('the', 'DET'), ('longest', 'ADJ'), ('since', 'ADP'), ('early', 'ADJ'), ('August', 'NOUN'), (',', '.'), ('according', 'VERB'), ('to', 'PRT'), ('Donoghue', 'NOUN'), (\"'s\", 'PRT'), ('.', '.')], [('Longer', 'ADJ'), ('maturities', 'NOUN'), ('are', 'VERB'), ('thought', 'VERB'), ('*-1', 'X'), ('to', 'PRT'), ('indicate', 'VERB'), ('declining', 'VERB'), ('interest', 'NOUN'), ('rates', 'NOUN'), ('because', 'ADP'), ('they', 'PRON'), ('permit', 'VERB'), ('portfolio', 'NOUN'), ('managers', 'NOUN'), ('to', 'PRT'), ('retain', 'VERB'), ('relatively', 'ADV'), ('higher', 'ADJ'), ('rates', 'NOUN'), ('for', 'ADP'), ('a', 'DET'), ('longer', 'ADJ'), ('period', 'NOUN'), ('.', '.')], [('Shorter', 'ADJ'), ('maturities', 'NOUN'), ('are', 'VERB'), ('considered', 'VERB'), ('*-9', 'X'), ('a', 'DET'), ('sign', 'NOUN'), ('of', 'ADP'), ('rising', 'VERB'), ('rates', 'NOUN'), ('because', 'ADP'), ('portfolio', 'NOUN'), ('managers', 'NOUN'), ('can', 'VERB'), ('capture', 'VERB'), ('higher', 'ADJ'), ('rates', 'NOUN'), ('sooner', 'ADV'), ('.', '.')], [('The', 'DET'), ('average', 'ADJ'), ('maturity', 'NOUN'), ('for', 'ADP'), ('funds', 'NOUN'), ('open', 'ADJ'), ('only', 'ADV'), ('to', 'PRT'), ('institutions', 'NOUN'), (',', '.'), ('considered', 'VERB'), ('by', 'ADP'), ('some', 'DET'), ('*', 'X'), ('to', 'PRT'), ('be', 'VERB'), ('a', 'DET'), ('stronger', 'ADJ'), ('indicator', 'NOUN'), ('because', 'ADP'), ('those', 'DET'), ('managers', 'NOUN'), ('watch', 'VERB'), ('the', 'DET'), ('market', 'NOUN'), ('closely', 'ADV'), (',', '.'), ('reached', 'VERB'), ('a', 'DET'), ('high', 'ADJ'), ('point', 'NOUN'), ('for', 'ADP'), ('the', 'DET'), ('year', 'NOUN'), ('--', '.'), ('33', 'NUM'), ('days', 'NOUN'), ('.', '.')]]\n"
     ]
    }
   ],
   "source": [
    "# first few tagged sentences\n",
    "print(nltk_data[:40])"
   ]
  },
  {
   "cell_type": "code",
   "execution_count": 4,
   "metadata": {},
   "outputs": [
    {
     "name": "stdout",
     "output_type": "stream",
     "text": [
      "3718\n",
      "196\n",
      "[[('Bank', 'NOUN'), ('of', 'ADP'), ('New', 'NOUN'), ('England', 'NOUN'), (\"'s\", 'PRT'), ('shares', 'NOUN'), ('are', 'VERB'), ('traded', 'VERB'), ('*-1', 'X'), ('on', 'ADP'), ('the', 'DET'), ('New', 'NOUN'), ('York', 'NOUN'), ('Stock', 'NOUN'), ('Exchange', 'NOUN'), ('.', '.')], [('$', '.'), ('130', 'NUM'), ('million', 'NUM'), ('*U*', 'X'), ('of', 'ADP'), ('general', 'ADJ'), ('obligation', 'NOUN'), ('distributable', 'ADJ'), ('state', 'NOUN'), ('aid', 'NOUN'), ('bonds', 'NOUN'), ('due', 'ADJ'), ('1991-2000', 'NUM'), ('and', 'CONJ'), ('2009', 'NUM'), (',', '.'), ('tentatively', 'ADV'), ('priced', 'VERB'), ('*', 'X'), ('by', 'ADP'), ('a', 'DET'), ('Chemical', 'NOUN'), ('Securities', 'NOUN'), ('Inc.', 'NOUN'), ('group', 'NOUN'), ('*', 'X'), ('to', 'PRT'), ('yield', 'VERB'), ('from', 'ADP'), ('6.20', 'NUM'), ('%', 'NOUN'), ('in', 'ADP'), ('1991', 'NUM'), ('to', 'PRT'), ('7.272', 'NUM'), ('%', 'NOUN'), ('in', 'ADP'), ('2009', 'NUM'), ('.', '.')], [('``', '.'), ('They', 'PRON'), ('were', 'VERB'), ('a', 'DET'), ('self-perpetuating', 'ADJ'), ('club', 'NOUN'), ('that', 'DET'), ('*T*-229', 'X'), ('treated', 'VERB'), ('the', 'DET'), ('tower', 'NOUN'), ('as', 'ADP'), ('sort', 'NOUN'), ('of', 'ADP'), ('a', 'DET'), ('separate', 'ADJ'), ('premises', 'NOUN'), (',', '.'), (\"''\", '.'), ('the', 'DET'), ('Vicar', 'NOUN'), ('Hummerstone', 'NOUN'), ('says', 'VERB'), ('*T*-1', 'X'), ('.', '.')], [('Valley', 'NOUN'), ('Federal', 'NOUN'), ('Savings', 'NOUN'), ('&', 'CONJ'), ('Loan', 'NOUN'), ('Association', 'NOUN'), ('took', 'VERB'), ('an', 'DET'), ('$', '.'), ('89.9', 'NUM'), ('million', 'NUM'), ('*U*', 'X'), ('charge', 'NOUN'), ('as', 'ADP'), ('it', 'PRON'), ('reported', 'VERB'), ('a', 'DET'), ('third-quarter', 'NOUN'), ('loss', 'NOUN'), ('of', 'ADP'), ('$', '.'), ('70.7', 'NUM'), ('million', 'NUM'), ('*U*', 'X'), (',', '.'), ('or', 'CONJ'), ('$', '.'), ('12.09', 'NUM'), ('*U*', 'X'), ('a', 'DET'), ('share', 'NOUN'), ('.', '.')], [('``', '.'), ('The', 'DET'), ('Herald', 'NOUN'), ('was', 'VERB'), ('a', 'DET'), ('survivor', 'NOUN'), ('from', 'ADP'), ('a', 'DET'), ('bygone', 'ADJ'), ('age', 'NOUN'), (',', '.'), (\"''\", '.'), ('said', 'VERB'), ('*T*-1', 'X'), ('J.', 'NOUN'), ('Kendrick', 'NOUN'), ('Noble', 'NOUN'), (',', '.'), ('a', 'DET'), ('media', 'NOUN'), ('analyst', 'NOUN'), ('with', 'ADP'), ('PaineWebber', 'NOUN'), ('Inc', 'NOUN'), ('.', '.')], [('The', 'DET'), ('Midwest', 'NOUN'), ('Financial', 'NOUN'), ('subsidiary', 'NOUN'), ('banks', 'NOUN'), ('will', 'VERB'), ('continue', 'VERB'), ('*-1', 'X'), ('to', 'PRT'), ('operate', 'VERB'), ('under', 'ADP'), ('their', 'PRON'), ('current', 'ADJ'), ('names', 'NOUN'), ('until', 'ADP'), ('early', 'ADJ'), ('1990', 'NUM'), (',', '.'), ('when', 'ADV'), ('each', 'DET'), ('will', 'VERB'), ('adopt', 'VERB'), ('the', 'DET'), ('First', 'NOUN'), ('of', 'ADP'), ('America', 'NOUN'), ('name', 'NOUN'), ('*T*-2', 'X'), ('.', '.')], [('But', 'CONJ'), ('many', 'ADJ'), ('banks', 'NOUN'), ('are', 'VERB'), ('turning', 'VERB'), ('away', 'ADV'), ('from', 'ADP'), ('strict', 'ADJ'), ('price', 'NOUN'), ('competition', 'NOUN'), ('.', '.')], [('And', 'CONJ'), ('I', 'PRON'), ('apparently', 'ADV'), ('had', 'VERB'), ('no', 'DET'), ('right', 'NOUN'), ('*', 'X'), ('to', 'PRT'), ('print', 'VERB'), ('hither', 'ADV'), ('what', 'PRON'), ('the', 'DET'), ('Voice', 'NOUN'), ('was', 'VERB'), ('booming', 'VERB'), ('*T*-2', 'X'), ('to', 'PRT'), ('yon', 'ADV'), ('.', '.')], [('However', 'ADV'), (',', '.'), ('none', 'NOUN'), ('of', 'ADP'), ('the', 'DET'), ('big', 'ADJ'), ('three', 'NUM'), ('weeklies', 'NOUN'), ('recorded', 'VERB'), ('circulation', 'NOUN'), ('gains', 'NOUN'), ('recently', 'ADV'), ('.', '.')], [('Both', 'DET'), ('indicators', 'NOUN'), ('were', 'VERB'), ('viewed', 'VERB'), ('*-1', 'X'), ('as', 'ADP'), ('signs', 'NOUN'), ('that', 'ADP'), ('the', 'DET'), ('nation', 'NOUN'), (\"'s\", 'PRT'), ('industrial', 'ADJ'), ('sector', 'NOUN'), ('is', 'VERB'), ('growing', 'VERB'), ('very', 'ADV'), ('slowly', 'ADV'), (',', '.'), ('if', 'ADP'), ('at', 'ADP'), ('all', 'DET'), ('.', '.')], [('A', 'DET'), ('second', 'ADJ'), ('ship', 'NOUN'), ('is', 'VERB'), ('now', 'ADV'), ('expected', 'VERB'), ('*-2', 'X'), ('to', 'PRT'), ('be', 'VERB'), ('delivered', 'VERB'), ('*-1', 'X'), ('late', 'ADJ'), ('next', 'ADJ'), ('year', 'NOUN'), ('or', 'CONJ'), ('early', 'ADV'), ('in', 'ADP'), ('1991', 'NUM'), ('.', '.')], [('In', 'ADP'), ('October', 'NOUN'), ('1988', 'NUM'), (',', '.'), ('21.1', 'NUM'), ('%', 'NOUN'), ('said', 'VERB'), ('0', 'X'), ('business', 'NOUN'), ('conditions', 'NOUN'), ('would', 'VERB'), ('improve', 'VERB'), ('.', '.')], [('The', 'DET'), ('announcement', 'NOUN'), ('follows', 'VERB'), ('a', 'DET'), ('sharper', 'ADJ'), ('$', '.'), ('2.2', 'NUM'), ('billion', 'NUM'), ('*U*', 'X'), ('decline', 'NOUN'), ('in', 'ADP'), ('the', 'DET'), ('country', 'NOUN'), (\"'s\", 'PRT'), ('foreign', 'ADJ'), ('reserves', 'NOUN'), ('in', 'ADP'), ('September', 'NOUN'), ('to', 'PRT'), ('$', '.'), ('86.12', 'NUM'), ('billion', 'NUM'), ('*U*', 'X'), ('.', '.')], [('Michael', 'NOUN'), ('Henderson', 'NOUN'), (',', '.'), ('51-year-old', 'ADJ'), ('group', 'NOUN'), ('chief', 'NOUN'), ('executive', 'NOUN'), ('of', 'ADP'), ('this', 'DET'), ('U.K.', 'NOUN'), ('metals', 'NOUN'), ('and', 'CONJ'), ('industrial', 'ADJ'), ('materials', 'NOUN'), ('maker', 'NOUN'), (',', '.'), ('will', 'VERB'), ('become', 'VERB'), ('chairman', 'NOUN'), ('in', 'ADP'), ('May', 'NOUN'), (',', '.'), ('*-1', 'X'), ('succeeding', 'VERB'), ('Ian', 'NOUN'), ('Butler', 'NOUN'), (',', '.'), ('64', 'NUM'), (',', '.'), ('who', 'PRON'), ('*T*-161', 'X'), ('is', 'VERB'), ('retiring', 'VERB'), ('.', '.')], [('Partly', 'ADV'), ('because', 'ADP'), ('of', 'ADP'), ('worries', 'NOUN'), ('about', 'ADP'), ('potential', 'ADJ'), ('abuse', 'NOUN'), (',', '.'), ('however', 'ADV'), (',', '.'), ('he', 'PRON'), ('says', 'VERB'), ('0', 'X'), ('the', 'DET'), ('state', 'NOUN'), ('will', 'VERB'), ('begin', 'VERB'), ('*-1', 'X'), ('keeping', 'VERB'), ('closer', 'ADJ'), ('track', 'NOUN'), ('of', 'ADP'), ('achievement-test', 'NOUN'), ('preparation', 'NOUN'), ('booklets', 'NOUN'), ('next', 'ADJ'), ('spring', 'NOUN'), ('.', '.')], [('He', 'PRON'), ('succeeds', 'VERB'), ('Terrence', 'NOUN'), ('D.', 'NOUN'), ('Daniels', 'NOUN'), (',', '.'), ('formerly', 'ADV'), ('a', 'DET'), ('W.R.', 'NOUN'), ('Grace', 'NOUN'), ('vice', 'NOUN'), ('chairman', 'NOUN'), (',', '.'), ('who', 'PRON'), ('*T*-11', 'X'), ('resigned', 'VERB'), ('.', '.')], [('Scientists', 'NOUN'), ('had', 'VERB'), ('obtained', 'VERB'), ('even', 'ADV'), ('higher', 'ADJ'), ('current-carrying', 'ADJ'), ('capacity', 'NOUN'), ('in', 'ADP'), ('thin', 'ADJ'), ('films', 'NOUN'), ('of', 'ADP'), ('the', 'DET'), ('new', 'ADJ'), ('superconductors', 'NOUN'), (',', '.'), ('but', 'CONJ'), ('have', 'VERB'), ('had', 'VERB'), ('problems', 'NOUN'), ('*-2', 'X'), ('increasing', 'VERB'), ('the', 'DET'), ('amount', 'NOUN'), ('of', 'ADP'), ('current', 'NOUN'), ('that', 'ADP'), ('bulk', 'NOUN'), ('crystals', 'NOUN'), ('could', 'VERB'), ('carry', 'VERB'), ('*T*-1', 'X'), ('.', '.')], [('USX', 'NOUN'), ('was', 'VERB'), ('cited', 'VERB'), ('*-1', 'X'), ('by', 'ADP'), ('OSHA', 'NOUN'), ('for', 'ADP'), ('several', 'ADJ'), ('health', 'NOUN'), ('and', 'CONJ'), ('safety', 'NOUN'), ('violations', 'NOUN'), ('at', 'ADP'), ('two', 'NUM'), ('Pennsylvania', 'NOUN'), ('plants', 'NOUN'), ('and', 'CONJ'), ('may', 'VERB'), ('face', 'VERB'), ('a', 'DET'), ('record', 'NOUN'), ('fine', 'NOUN'), ('of', 'ADP'), ('$', '.'), ('7.3', 'NUM'), ('million', 'NUM'), ('*U*', 'X'), ('.', '.')], [('Stock-index', 'NOUN'), ('futures', 'NOUN'), ('--', '.'), ('Contracts', 'NOUN'), ('*', 'X'), ('to', 'PRT'), ('buy', 'VERB'), ('or', 'CONJ'), ('sell', 'VERB'), ('the', 'DET'), ('cash', 'NOUN'), ('value', 'NOUN'), ('of', 'ADP'), ('a', 'DET'), ('stock', 'NOUN'), ('index', 'NOUN'), ('by', 'ADP'), ('a', 'DET'), ('certain', 'ADJ'), ('date', 'NOUN'), ('.', '.')], [('The', 'DET'), ('idea', 'NOUN'), (',', '.'), ('of', 'ADP'), ('course', 'NOUN'), (':', '.'), ('*', 'X'), ('to', 'PRT'), ('prove', 'VERB'), ('to', 'PRT'), ('125', 'NUM'), ('corporate', 'ADJ'), ('decision', 'NOUN'), ('makers', 'NOUN'), ('that', 'ADP'), ('the', 'DET'), ('buckle', 'NOUN'), ('on', 'ADP'), ('the', 'DET'), ('Rust', 'NOUN'), ('Belt', 'NOUN'), ('is', 'VERB'), (\"n't\", 'ADV'), ('so', 'ADV'), ('rusty', 'ADJ'), ('after', 'ADP'), ('all', 'DET'), (',', '.'), ('that', 'ADP'), ('it', 'PRON'), (\"'s\", 'VERB'), ('a', 'DET'), ('good', 'ADJ'), ('place', 'NOUN'), ('0', 'X'), ('for', 'ADP'), ('a', 'DET'), ('company', 'NOUN'), ('to', 'PRT'), ('expand', 'VERB'), ('*T*-1', 'X'), ('.', '.')], [('Backe', 'NOUN'), ('Group', 'NOUN'), ('Inc.', 'NOUN'), ('agreed', 'VERB'), ('*-1', 'X'), ('to', 'PRT'), ('acquire', 'VERB'), ('Atlantic', 'NOUN'), ('Publications', 'NOUN'), ('Inc.', 'NOUN'), (',', '.'), ('which', 'DET'), ('*T*-141', 'X'), ('has', 'VERB'), ('30', 'NUM'), ('community', 'NOUN'), ('papers', 'NOUN'), ('and', 'CONJ'), ('annual', 'ADJ'), ('sales', 'NOUN'), ('of', 'ADP'), ('$', '.'), ('7', 'NUM'), ('million', 'NUM'), ('*U*', 'X'), ('.', '.')], [('The', 'DET'), ('one', 'NUM'), ('character', 'NOUN'), ('at', 'ADP'), ('least', 'ADJ'), ('somewhat', 'ADV'), ('interesting', 'ADJ'), ('was', 'VERB'), ('Irving', 'NOUN'), ('Louis', 'NOUN'), ('Lobsenz', 'NOUN'), (',', '.'), ('a', 'DET'), ('pediatrician', 'NOUN'), ('who', 'PRON'), ('*T*-1', 'X'), ('changed', 'VERB'), ('his', 'PRON'), ('name', 'NOUN'), ('to', 'PRT'), ('Rusty', 'NOUN'), ('Kent', 'NOUN'), ('London', 'NOUN'), ('and', 'CONJ'), ('became', 'VERB'), ('a', 'DET'), ('master', 'NOUN'), ('gambler', 'NOUN'), ('and', 'CONJ'), ('author', 'NOUN'), ('of', 'ADP'), ('a', 'DET'), ('book', 'NOUN'), ('on', 'ADP'), ('blackjack', 'NOUN'), ('.', '.')], [('The', 'DET'), ('worst', 'ADJ'), ('crop', 'NOUN'), ('damage', 'NOUN'), ('occurred', 'VERB'), ('in', 'ADP'), ('the', 'DET'), ('Midwestern', 'NOUN'), ('Corn', 'NOUN'), ('Belt', 'NOUN'), ('and', 'CONJ'), ('the', 'DET'), ('northern', 'ADJ'), ('Great', 'NOUN'), ('Plains', 'NOUN'), ('.', '.')], [('Mr.', 'NOUN'), ('Taccetta', 'NOUN'), ('says', 'VERB'), ('0', 'X'), ('he', 'PRON'), ('had', 'VERB'), ('just', 'ADV'), ('recouped', 'VERB'), ('the', 'DET'), ('$', '.'), ('5,000', 'NUM'), ('*U*', 'X'), ('0', 'X'), ('he', 'PRON'), ('lost', 'VERB'), ('*T*-1', 'X'), ('in', 'ADP'), ('the', 'DET'), ('1987', 'NUM'), ('crash', 'NOUN'), ('when', 'ADV'), ('he', 'PRON'), ('lost', 'VERB'), ('more', 'ADJ'), ('money', 'NOUN'), ('last', 'ADJ'), ('Oct.', 'NOUN'), ('13', 'NUM'), ('*T*-2', 'X'), ('.', '.')], [('Most', 'ADJ'), ('of', 'ADP'), ('the', 'DET'), ('picture', 'NOUN'), ('is', 'VERB'), ('taken', 'VERB'), ('up', 'PRT'), ('with', 'ADP'), ('endless', 'ADJ'), ('scenes', 'NOUN'), ('of', 'ADP'), ('many', 'ADJ'), ('people', 'NOUN'), ('either', 'CONJ'), ('fighting', 'VERB'), ('or', 'CONJ'), ('eating', 'VERB'), ('and', 'CONJ'), ('drinking', 'VERB'), ('*-1', 'X'), ('to', 'PRT'), ('celebrate', 'VERB'), ('victory', 'NOUN'), ('.', '.')], [('Institutions', 'NOUN'), ('mostly', 'ADV'), ('remained', 'VERB'), ('on', 'ADP'), ('the', 'DET'), ('sidelines', 'NOUN'), ('because', 'ADP'), ('of', 'ADP'), ('uncertainty', 'NOUN'), ('regarding', 'VERB'), ('interest', 'NOUN'), ('rates', 'NOUN'), ('and', 'CONJ'), ('the', 'DET'), ('dollar', 'NOUN'), ('.', '.')], [('In', 'ADP'), ('San', 'NOUN'), ('Francisco', 'NOUN'), (',', '.'), ('its', 'PRON'), ('backers', 'NOUN'), ('concede', 'VERB'), ('0', 'X'), ('the', 'DET'), ('ballpark', 'NOUN'), ('is', 'VERB'), ('at', 'ADP'), ('best', 'ADJ'), ('running', 'VERB'), ('even', 'ADV'), ('in', 'ADP'), ('the', 'DET'), ('polls', 'NOUN'), ('.', '.')], [('*-1', 'X'), ('The', 'DET'), ('son', 'NOUN'), ('of', 'ADP'), ('a', 'DET'), ('physicist', 'NOUN'), (',', '.'), ('Mr.', 'NOUN'), ('Hahn', 'NOUN'), ('skipped', 'VERB'), ('first', 'ADJ'), ('grade', 'NOUN'), ('because', 'ADP'), ('his', 'PRON'), ('reading', 'NOUN'), ('ability', 'NOUN'), ('was', 'VERB'), ('so', 'ADV'), ('far', 'ADV'), ('above', 'ADP'), ('his', 'PRON'), ('classmates', 'NOUN'), ('.', '.')], [('Some', 'DET'), ('of', 'ADP'), ('his', 'PRON'), ('observations', 'NOUN'), ('about', 'ADP'), ('Japanese', 'ADJ'), ('management', 'NOUN'), ('style', 'NOUN'), ('are', 'VERB'), ('on', 'ADP'), ('the', 'DET'), ('mark', 'NOUN'), ('.', '.')], [('The', 'DET'), ('Bougainville', 'NOUN'), ('copper', 'NOUN'), ('mine', 'NOUN'), ('has', 'VERB'), ('been', 'VERB'), ('inoperative', 'ADJ'), ('since', 'ADP'), ('May', 'NOUN'), ('15', 'NUM'), ('because', 'ADP'), ('of', 'ADP'), ('attacks', 'NOUN'), ('by', 'ADP'), ('native', 'ADJ'), ('landowners', 'NOUN'), ('who', 'PRON'), ('*T*-1', 'X'), ('want', 'VERB'), ('Bougainville', 'NOUN'), ('to', 'PRT'), ('secede', 'VERB'), ('from', 'ADP'), ('Papua-New', 'NOUN'), ('Guinea', 'NOUN'), ('.', '.')], [('Nonetheless', 'ADV'), (',', '.'), ('plenty', 'ADJ'), ('of', 'ADP'), ('U.S.', 'NOUN'), ('analysts', 'NOUN'), ('and', 'CONJ'), ('money', 'NOUN'), ('managers', 'NOUN'), ('are', 'VERB'), ('aghast', 'ADJ'), ('at', 'ADP'), ('the', 'DET'), ('lofty', 'ADJ'), ('trading', 'NOUN'), ('levels', 'NOUN'), ('of', 'ADP'), ('some', 'DET'), ('country', 'NOUN'), ('funds', 'NOUN'), ('.', '.')], [('The', 'DET'), ('new', 'ADJ'), ('Wall', 'NOUN'), ('Street', 'NOUN'), ('of', 'ADP'), ('computers', 'NOUN'), ('and', 'CONJ'), ('automated', 'VERB'), ('trading', 'NOUN'), ('threatens', 'VERB'), ('*-1', 'X'), ('to', 'PRT'), ('make', 'VERB'), ('dinosaurs', 'NOUN'), ('of', 'ADP'), ('the', 'DET'), ('49', 'NUM'), ('Big', 'NOUN'), ('Board', 'NOUN'), ('stock-specialist', 'ADJ'), ('firms', 'NOUN'), ('.', '.')], [('The', 'DET'), ('government', 'NOUN'), ('includes', 'VERB'), ('money', 'NOUN'), ('spent', 'VERB'), ('*', 'X'), ('on', 'ADP'), ('residential', 'ADJ'), ('renovation', 'NOUN'), (';', '.'), ('Dodge', 'NOUN'), ('does', 'VERB'), (\"n't\", 'ADV'), ('*?*', 'X'), ('.', '.')], [('Last', 'ADJ'), ('year', 'NOUN'), (',', '.'), ('government', 'NOUN'), ('payments', 'NOUN'), ('to', 'PRT'), ('farmers', 'NOUN'), ('slipped', 'VERB'), ('to', 'PRT'), ('less', 'ADJ'), ('than', 'ADP'), ('$', '.'), ('14.5', 'NUM'), ('billion', 'NUM'), ('*U*', 'X'), ('from', 'ADP'), ('a', 'DET'), ('record', 'NOUN'), ('$', '.'), ('16.7', 'NUM'), ('billion', 'NUM'), ('*U*', 'X'), ('in', 'ADP'), ('1987', 'NUM'), ('.', '.')], [('Heritage', 'NOUN'), ('owns', 'VERB'), ('and', 'CONJ'), ('operates', 'VERB'), ('television', 'NOUN'), ('and', 'CONJ'), ('radio', 'NOUN'), ('stations', 'NOUN'), ('and', 'CONJ'), ('in-store', 'ADJ'), ('advertising', 'NOUN'), ('and', 'CONJ'), ('promotion', 'NOUN'), ('programs', 'NOUN'), ('.', '.')], [('Japan', 'NOUN'), (\"'s\", 'PRT'), ('domestic', 'ADJ'), ('sales', 'NOUN'), ('of', 'ADP'), ('cars', 'NOUN'), (',', '.'), ('trucks', 'NOUN'), ('and', 'CONJ'), ('buses', 'NOUN'), ('in', 'ADP'), ('October', 'NOUN'), ('rose', 'VERB'), ('18', 'NUM'), ('%', 'NOUN'), ('from', 'ADP'), ('a', 'DET'), ('year', 'NOUN'), ('earlier', 'ADJ'), ('to', 'PRT'), ('500,004', 'NUM'), ('units', 'NOUN'), (',', '.'), ('a', 'DET'), ('record', 'NOUN'), ('for', 'ADP'), ('the', 'DET'), ('month', 'NOUN'), (',', '.'), ('the', 'DET'), ('Japan', 'NOUN'), ('Automobile', 'NOUN'), ('Dealers', 'NOUN'), (\"'\", 'PRT'), ('Association', 'NOUN'), ('said', 'VERB'), ('0', 'X'), ('*T*-1', 'X'), ('.', '.')], [('U.S.', 'NOUN'), ('chip', 'NOUN'), ('makers', 'NOUN'), ('are', 'VERB'), ('facing', 'VERB'), ('continued', 'VERB'), ('slack', 'ADJ'), ('demand', 'NOUN'), ('following', 'VERB'), ('a', 'DET'), ('traditionally', 'ADV'), ('slow', 'ADJ'), ('summer', 'NOUN'), ('.', '.')], [('She', 'PRON'), ('was', 'VERB'), ('an', 'DET'), ('unstinting', 'ADJ'), ('teacher', 'NOUN'), ('who', 'PRON'), ('*T*-80', 'X'), ('won', 'VERB'), ('laurels', 'NOUN'), ('and', 'CONJ'), ('inspired', 'VERB'), ('students', 'NOUN'), (',', '.'), ('but', 'CONJ'), ('she', 'PRON'), ('will', 'VERB'), ('probably', 'ADV'), ('never', 'ADV'), ('teach', 'VERB'), ('again', 'ADV'), ('.', '.')], [('The', 'DET'), ('aerospace', 'NOUN'), (',', '.'), ('automotive', 'ADJ'), ('supply', 'NOUN'), (',', '.'), ('electronics', 'NOUN'), ('and', 'CONJ'), ('printing-press', 'NOUN'), ('concern', 'NOUN'), ('also', 'ADV'), ('indicated', 'VERB'), ('that', 'ADP'), ('the', 'DET'), ('first', 'ADJ'), ('half', 'DET'), ('of', 'ADP'), ('fiscal', 'ADJ'), ('1990', 'NUM'), ('could', 'VERB'), ('be', 'VERB'), ('rough', 'ADJ'), ('.', '.')], [('W.R.', 'NOUN'), ('Grace', 'NOUN'), ('holds', 'VERB'), ('three', 'NUM'), ('of', 'ADP'), ('Grace', 'NOUN'), ('Energy', 'NOUN'), (\"'s\", 'PRT'), ('seven', 'NUM'), ('board', 'NOUN'), ('seats', 'NOUN'), ('.', '.')]]\n"
     ]
    }
   ],
   "source": [
    "# Splitting into train and test\n",
    "random.seed(1234)\n",
    "train_set, test_set = train_test_split(nltk_data,train_size=0.95, test_size=0.05, random_state=42)\n",
    "\n",
    "print(len(train_set))\n",
    "print(len(test_set))\n",
    "print(train_set[:40])"
   ]
  },
  {
   "cell_type": "code",
   "execution_count": 5,
   "metadata": {},
   "outputs": [
    {
     "data": {
      "text/plain": [
       "95589"
      ]
     },
     "execution_count": 5,
     "metadata": {},
     "output_type": "execute_result"
    }
   ],
   "source": [
    "# Getting list of tagged words\n",
    "train_tagged_words = [tup for sent in train_set for tup in sent]\n",
    "len(train_tagged_words)"
   ]
  },
  {
   "cell_type": "code",
   "execution_count": 6,
   "metadata": {},
   "outputs": [
    {
     "data": {
      "text/plain": [
       "['Bank', 'of', 'New', 'England', \"'s\", 'shares', 'are', 'traded', '*-1', 'on']"
      ]
     },
     "execution_count": 6,
     "metadata": {},
     "output_type": "execute_result"
    }
   ],
   "source": [
    "# tokens \n",
    "tokens = [pair[0] for pair in train_tagged_words]\n",
    "tokens[:10]"
   ]
  },
  {
   "cell_type": "code",
   "execution_count": 7,
   "metadata": {},
   "outputs": [
    {
     "name": "stdout",
     "output_type": "stream",
     "text": [
      "12109\n"
     ]
    }
   ],
   "source": [
    "# vocabulary\n",
    "V = set(tokens)\n",
    "print(len(V))"
   ]
  },
  {
   "cell_type": "code",
   "execution_count": 8,
   "metadata": {},
   "outputs": [
    {
     "name": "stdout",
     "output_type": "stream",
     "text": [
      "12\n",
      "{'X', '.', 'VERB', 'ADJ', 'DET', 'NOUN', 'PRON', 'NUM', 'PRT', 'CONJ', 'ADP', 'ADV'}\n"
     ]
    }
   ],
   "source": [
    "# number of tags\n",
    "T = set([pair[1] for pair in train_tagged_words])\n",
    "print(len(T))\n",
    "print(T)"
   ]
  },
  {
   "cell_type": "markdown",
   "metadata": {},
   "source": [
    " <b> 12 coarse tag classes as follows: </b>\n",
    " \n",
    "PRT - particles or other function words <br>\n",
    "NUM - cardinal numbers <br>\n",
    "ADP - adpositions <br>\n",
    "CONJ - conjunctions <br>\n",
    "NOUN - nouns <br>\n",
    "X - other: foreign words, typos, abbreviations <br>\n",
    "ADJ - adjectives <br>\n",
    "DET - determiners <br>\n",
    "VERB - verbs     <br>\n",
    "PRON - pronouns <br>\n",
    ". - punctuation <br>\n",
    "ADV - adverbs <br>\n",
    "\n",
    " "
   ]
  },
  {
   "cell_type": "code",
   "execution_count": 9,
   "metadata": {},
   "outputs": [],
   "source": [
    "# computing P(w/t) and storing in T x V matrix\n",
    "t = len(T)\n",
    "v = len(V)\n",
    "w_given_t = np.zeros((t, v))"
   ]
  },
  {
   "cell_type": "code",
   "execution_count": 10,
   "metadata": {},
   "outputs": [],
   "source": [
    "# compute word given tag: Emission Probability\n",
    "def word_given_tag(word, tag, train_bag = train_tagged_words):\n",
    "    tag_list = [pair for pair in train_bag if pair[1]==tag]\n",
    "    count_tag = len(tag_list)\n",
    "    w_given_tag_list = [pair[0] for pair in tag_list if pair[0]==word]\n",
    "    count_w_given_tag = len(w_given_tag_list)\n",
    "    \n",
    "    return (count_w_given_tag, count_tag)"
   ]
  },
  {
   "cell_type": "code",
   "execution_count": 11,
   "metadata": {},
   "outputs": [
    {
     "name": "stdout",
     "output_type": "stream",
     "text": [
      "\n",
      " style\n",
      "(3, 27423)\n",
      "(0, 12885)\n",
      "(0, 6077)\n",
      "\n",
      " reported\n",
      "(0, 27423)\n",
      "(34, 12885)\n",
      "(0, 6077)\n"
     ]
    }
   ],
   "source": [
    "\n",
    "print(\"\\n\", \"style\")\n",
    "print(word_given_tag('style','NOUN'))\n",
    "print(word_given_tag('style','VERB'))\n",
    "print(word_given_tag('style','ADJ'))\n",
    "\n",
    "print(\"\\n\", \"reported\")\n",
    "print(word_given_tag('reported','NOUN'))\n",
    "print(word_given_tag('reported','VERB'))\n",
    "print(word_given_tag('reported','ADJ'))"
   ]
  },
  {
   "cell_type": "code",
   "execution_count": 12,
   "metadata": {},
   "outputs": [],
   "source": [
    "# compute tag given tag: tag2(t2) given tag1 (t1), i.e. Transition Probability\n",
    "\n",
    "def t2_given_t1(t2, t1, train_bag = train_tagged_words):\n",
    "    tags = [pair[1] for pair in train_bag]\n",
    "    count_t1 = len([t for t in tags if t==t1])\n",
    "    count_t2_t1 = 0\n",
    "    for index in range(len(tags)-1):\n",
    "        if tags[index]==t1 and tags[index+1] == t2:\n",
    "            count_t2_t1 += 1\n",
    "    return (count_t2_t1, count_t1)"
   ]
  },
  {
   "cell_type": "code",
   "execution_count": 13,
   "metadata": {},
   "outputs": [
    {
     "name": "stdout",
     "output_type": "stream",
     "text": [
      "(4234, 6077)\n",
      "(4058, 27423)\n",
      "(94, 3363)\n"
     ]
    }
   ],
   "source": [
    "# examples\n",
    "print(t2_given_t1(t2='NOUN', t1='ADJ'))\n",
    "print(t2_given_t1('VERB', 'NOUN'))\n",
    "print(t2_given_t1('PRT', 'NUM'))"
   ]
  },
  {
   "cell_type": "code",
   "execution_count": 14,
   "metadata": {},
   "outputs": [
    {
     "name": "stdout",
     "output_type": "stream",
     "text": [
      "(2481, 11118)\n",
      "(984, 11118)\n",
      "(26, 11118)\n"
     ]
    }
   ],
   "source": [
    "#Please note P(tag|start) is same as P(tag|'.')\n",
    "print(t2_given_t1('NOUN', '.'))\n",
    "print(t2_given_t1('VERB', '.'))\n",
    "print(t2_given_t1('PRT', '.'))\n"
   ]
  },
  {
   "cell_type": "code",
   "execution_count": 15,
   "metadata": {},
   "outputs": [],
   "source": [
    "# creating t x t transition matrix of tags\n",
    "# each column is t2, each row is t1\n",
    "# thus M(i, j) represents P(tj given ti)\n",
    "\n",
    "tags_matrix = np.zeros((len(T), len(T)), dtype='float32')\n",
    "for i, t1 in enumerate(list(T)):\n",
    "    for j, t2 in enumerate(list(T)): \n",
    "        tags_matrix[i, j] = t2_given_t1(t2, t1)[0]/t2_given_t1(t2, t1)[1]"
   ]
  },
  {
   "cell_type": "code",
   "execution_count": 16,
   "metadata": {},
   "outputs": [
    {
     "data": {
      "text/plain": [
       "array([[7.64818341e-02, 1.63798600e-01, 2.03632891e-01, 1.65710635e-02,\n",
       "        5.51306568e-02, 6.13448061e-02, 5.60866781e-02, 2.70873168e-03,\n",
       "        1.85787126e-01, 1.03569152e-02, 1.42925426e-01, 2.51752716e-02],\n",
       "       [2.66234931e-02, 9.38118398e-02, 8.85051265e-02, 4.49721180e-02,\n",
       "        1.73502430e-01, 2.23151639e-01, 6.53894618e-02, 8.05000886e-02,\n",
       "        2.33855005e-03, 5.79240881e-02, 9.11135077e-02, 5.20777106e-02],\n",
       "       [2.18005434e-01, 3.53123769e-02, 1.69188976e-01, 6.46488145e-02,\n",
       "        1.33100510e-01, 1.10904150e-01, 3.62436958e-02, 2.28172299e-02,\n",
       "        3.11214589e-02, 5.58789307e-03, 9.04928222e-02, 8.25766400e-02],\n",
       "       [2.13921349e-02, 6.53282851e-02, 1.23416157e-02, 6.66447282e-02,\n",
       "        5.10120112e-03, 6.96725368e-01, 6.58219506e-04, 2.04048045e-02,\n",
       "        1.08606219e-02, 1.69491526e-02, 7.89863393e-02, 4.60753683e-03],\n",
       "       [4.55094166e-02, 1.79864801e-02, 3.83872539e-02, 2.04973444e-01,\n",
       "        5.31144394e-03, 6.40028954e-01, 3.74215352e-03, 2.19700634e-02,\n",
       "        2.41429268e-04, 4.82858537e-04, 9.05359723e-03, 1.23128919e-02],\n",
       "       [2.91361269e-02, 2.39178792e-01, 1.47977978e-01, 1.22889541e-02,\n",
       "        1.33099956e-02, 2.64631867e-01, 4.92287474e-03, 9.62695573e-03,\n",
       "        4.38318215e-02, 4.19356003e-02, 1.76275387e-01, 1.68836378e-02],\n",
       "       [9.28189456e-02, 4.12528664e-02, 4.80901450e-01, 7.48663098e-02,\n",
       "        9.54927411e-03, 2.11229950e-01, 8.02139007e-03, 7.25744851e-03,\n",
       "        1.22230714e-02, 4.96562244e-03, 2.29182579e-02, 3.39954160e-02],\n",
       "       [2.06660718e-01, 1.18346713e-01, 1.75438598e-02, 3.41956578e-02,\n",
       "        3.27088917e-03, 3.55337501e-01, 1.48676778e-03, 1.84061855e-01,\n",
       "        2.79512331e-02, 1.33809103e-02, 3.47903669e-02, 2.97353556e-03],\n",
       "       [1.34030730e-02, 4.15168367e-02, 4.02745992e-01, 8.63027126e-02,\n",
       "        1.00359596e-01, 2.42562935e-01, 1.89604443e-02, 5.85158542e-02,\n",
       "        1.63452106e-03, 2.28832942e-03, 2.15756781e-02, 1.01340311e-02],\n",
       "       [7.97747541e-03, 3.42562161e-02, 1.53918341e-01, 1.16846554e-01,\n",
       "        1.21539183e-01, 3.49131852e-01, 5.86579069e-02, 4.22336943e-02,\n",
       "        4.69263270e-03, 4.69263265e-04, 5.44345379e-02, 5.58423288e-02],\n",
       "       [3.40288915e-02, 3.94863561e-02, 8.23970046e-03, 1.05296947e-01,\n",
       "        3.26377749e-01, 3.21776360e-01, 6.91278726e-02, 6.29213452e-02,\n",
       "        1.49812736e-03, 8.56072758e-04, 1.72284637e-02, 1.31621184e-02],\n",
       "       [2.35880390e-02, 1.36877075e-01, 3.44518274e-01, 1.30232558e-01,\n",
       "        6.71096370e-02, 3.08970101e-02, 1.56146176e-02, 3.05647831e-02,\n",
       "        1.36212623e-02, 6.31229253e-03, 1.19601332e-01, 8.10631216e-02]],\n",
       "      dtype=float32)"
      ]
     },
     "execution_count": 16,
     "metadata": {},
     "output_type": "execute_result"
    }
   ],
   "source": [
    "tags_matrix"
   ]
  },
  {
   "cell_type": "code",
   "execution_count": 17,
   "metadata": {},
   "outputs": [
    {
     "data": {
      "text/html": [
       "<div>\n",
       "<style scoped>\n",
       "    .dataframe tbody tr th:only-of-type {\n",
       "        vertical-align: middle;\n",
       "    }\n",
       "\n",
       "    .dataframe tbody tr th {\n",
       "        vertical-align: top;\n",
       "    }\n",
       "\n",
       "    .dataframe thead th {\n",
       "        text-align: right;\n",
       "    }\n",
       "</style>\n",
       "<table border=\"1\" class=\"dataframe\">\n",
       "  <thead>\n",
       "    <tr style=\"text-align: right;\">\n",
       "      <th></th>\n",
       "      <th>X</th>\n",
       "      <th>.</th>\n",
       "      <th>VERB</th>\n",
       "      <th>ADJ</th>\n",
       "      <th>DET</th>\n",
       "      <th>NOUN</th>\n",
       "      <th>PRON</th>\n",
       "      <th>NUM</th>\n",
       "      <th>PRT</th>\n",
       "      <th>CONJ</th>\n",
       "      <th>ADP</th>\n",
       "      <th>ADV</th>\n",
       "    </tr>\n",
       "  </thead>\n",
       "  <tbody>\n",
       "    <tr>\n",
       "      <td>X</td>\n",
       "      <td>0.076482</td>\n",
       "      <td>0.163799</td>\n",
       "      <td>0.203633</td>\n",
       "      <td>0.016571</td>\n",
       "      <td>0.055131</td>\n",
       "      <td>0.061345</td>\n",
       "      <td>0.056087</td>\n",
       "      <td>0.002709</td>\n",
       "      <td>0.185787</td>\n",
       "      <td>0.010357</td>\n",
       "      <td>0.142925</td>\n",
       "      <td>0.025175</td>\n",
       "    </tr>\n",
       "    <tr>\n",
       "      <td>.</td>\n",
       "      <td>0.026623</td>\n",
       "      <td>0.093812</td>\n",
       "      <td>0.088505</td>\n",
       "      <td>0.044972</td>\n",
       "      <td>0.173502</td>\n",
       "      <td>0.223152</td>\n",
       "      <td>0.065389</td>\n",
       "      <td>0.080500</td>\n",
       "      <td>0.002339</td>\n",
       "      <td>0.057924</td>\n",
       "      <td>0.091114</td>\n",
       "      <td>0.052078</td>\n",
       "    </tr>\n",
       "    <tr>\n",
       "      <td>VERB</td>\n",
       "      <td>0.218005</td>\n",
       "      <td>0.035312</td>\n",
       "      <td>0.169189</td>\n",
       "      <td>0.064649</td>\n",
       "      <td>0.133101</td>\n",
       "      <td>0.110904</td>\n",
       "      <td>0.036244</td>\n",
       "      <td>0.022817</td>\n",
       "      <td>0.031121</td>\n",
       "      <td>0.005588</td>\n",
       "      <td>0.090493</td>\n",
       "      <td>0.082577</td>\n",
       "    </tr>\n",
       "    <tr>\n",
       "      <td>ADJ</td>\n",
       "      <td>0.021392</td>\n",
       "      <td>0.065328</td>\n",
       "      <td>0.012342</td>\n",
       "      <td>0.066645</td>\n",
       "      <td>0.005101</td>\n",
       "      <td>0.696725</td>\n",
       "      <td>0.000658</td>\n",
       "      <td>0.020405</td>\n",
       "      <td>0.010861</td>\n",
       "      <td>0.016949</td>\n",
       "      <td>0.078986</td>\n",
       "      <td>0.004608</td>\n",
       "    </tr>\n",
       "    <tr>\n",
       "      <td>DET</td>\n",
       "      <td>0.045509</td>\n",
       "      <td>0.017986</td>\n",
       "      <td>0.038387</td>\n",
       "      <td>0.204973</td>\n",
       "      <td>0.005311</td>\n",
       "      <td>0.640029</td>\n",
       "      <td>0.003742</td>\n",
       "      <td>0.021970</td>\n",
       "      <td>0.000241</td>\n",
       "      <td>0.000483</td>\n",
       "      <td>0.009054</td>\n",
       "      <td>0.012313</td>\n",
       "    </tr>\n",
       "    <tr>\n",
       "      <td>NOUN</td>\n",
       "      <td>0.029136</td>\n",
       "      <td>0.239179</td>\n",
       "      <td>0.147978</td>\n",
       "      <td>0.012289</td>\n",
       "      <td>0.013310</td>\n",
       "      <td>0.264632</td>\n",
       "      <td>0.004923</td>\n",
       "      <td>0.009627</td>\n",
       "      <td>0.043832</td>\n",
       "      <td>0.041936</td>\n",
       "      <td>0.176275</td>\n",
       "      <td>0.016884</td>\n",
       "    </tr>\n",
       "    <tr>\n",
       "      <td>PRON</td>\n",
       "      <td>0.092819</td>\n",
       "      <td>0.041253</td>\n",
       "      <td>0.480901</td>\n",
       "      <td>0.074866</td>\n",
       "      <td>0.009549</td>\n",
       "      <td>0.211230</td>\n",
       "      <td>0.008021</td>\n",
       "      <td>0.007257</td>\n",
       "      <td>0.012223</td>\n",
       "      <td>0.004966</td>\n",
       "      <td>0.022918</td>\n",
       "      <td>0.033995</td>\n",
       "    </tr>\n",
       "    <tr>\n",
       "      <td>NUM</td>\n",
       "      <td>0.206661</td>\n",
       "      <td>0.118347</td>\n",
       "      <td>0.017544</td>\n",
       "      <td>0.034196</td>\n",
       "      <td>0.003271</td>\n",
       "      <td>0.355338</td>\n",
       "      <td>0.001487</td>\n",
       "      <td>0.184062</td>\n",
       "      <td>0.027951</td>\n",
       "      <td>0.013381</td>\n",
       "      <td>0.034790</td>\n",
       "      <td>0.002974</td>\n",
       "    </tr>\n",
       "    <tr>\n",
       "      <td>PRT</td>\n",
       "      <td>0.013403</td>\n",
       "      <td>0.041517</td>\n",
       "      <td>0.402746</td>\n",
       "      <td>0.086303</td>\n",
       "      <td>0.100360</td>\n",
       "      <td>0.242563</td>\n",
       "      <td>0.018960</td>\n",
       "      <td>0.058516</td>\n",
       "      <td>0.001635</td>\n",
       "      <td>0.002288</td>\n",
       "      <td>0.021576</td>\n",
       "      <td>0.010134</td>\n",
       "    </tr>\n",
       "    <tr>\n",
       "      <td>CONJ</td>\n",
       "      <td>0.007977</td>\n",
       "      <td>0.034256</td>\n",
       "      <td>0.153918</td>\n",
       "      <td>0.116847</td>\n",
       "      <td>0.121539</td>\n",
       "      <td>0.349132</td>\n",
       "      <td>0.058658</td>\n",
       "      <td>0.042234</td>\n",
       "      <td>0.004693</td>\n",
       "      <td>0.000469</td>\n",
       "      <td>0.054435</td>\n",
       "      <td>0.055842</td>\n",
       "    </tr>\n",
       "    <tr>\n",
       "      <td>ADP</td>\n",
       "      <td>0.034029</td>\n",
       "      <td>0.039486</td>\n",
       "      <td>0.008240</td>\n",
       "      <td>0.105297</td>\n",
       "      <td>0.326378</td>\n",
       "      <td>0.321776</td>\n",
       "      <td>0.069128</td>\n",
       "      <td>0.062921</td>\n",
       "      <td>0.001498</td>\n",
       "      <td>0.000856</td>\n",
       "      <td>0.017228</td>\n",
       "      <td>0.013162</td>\n",
       "    </tr>\n",
       "    <tr>\n",
       "      <td>ADV</td>\n",
       "      <td>0.023588</td>\n",
       "      <td>0.136877</td>\n",
       "      <td>0.344518</td>\n",
       "      <td>0.130233</td>\n",
       "      <td>0.067110</td>\n",
       "      <td>0.030897</td>\n",
       "      <td>0.015615</td>\n",
       "      <td>0.030565</td>\n",
       "      <td>0.013621</td>\n",
       "      <td>0.006312</td>\n",
       "      <td>0.119601</td>\n",
       "      <td>0.081063</td>\n",
       "    </tr>\n",
       "  </tbody>\n",
       "</table>\n",
       "</div>"
      ],
      "text/plain": [
       "             X         .      VERB       ADJ       DET      NOUN      PRON  \\\n",
       "X     0.076482  0.163799  0.203633  0.016571  0.055131  0.061345  0.056087   \n",
       ".     0.026623  0.093812  0.088505  0.044972  0.173502  0.223152  0.065389   \n",
       "VERB  0.218005  0.035312  0.169189  0.064649  0.133101  0.110904  0.036244   \n",
       "ADJ   0.021392  0.065328  0.012342  0.066645  0.005101  0.696725  0.000658   \n",
       "DET   0.045509  0.017986  0.038387  0.204973  0.005311  0.640029  0.003742   \n",
       "NOUN  0.029136  0.239179  0.147978  0.012289  0.013310  0.264632  0.004923   \n",
       "PRON  0.092819  0.041253  0.480901  0.074866  0.009549  0.211230  0.008021   \n",
       "NUM   0.206661  0.118347  0.017544  0.034196  0.003271  0.355338  0.001487   \n",
       "PRT   0.013403  0.041517  0.402746  0.086303  0.100360  0.242563  0.018960   \n",
       "CONJ  0.007977  0.034256  0.153918  0.116847  0.121539  0.349132  0.058658   \n",
       "ADP   0.034029  0.039486  0.008240  0.105297  0.326378  0.321776  0.069128   \n",
       "ADV   0.023588  0.136877  0.344518  0.130233  0.067110  0.030897  0.015615   \n",
       "\n",
       "           NUM       PRT      CONJ       ADP       ADV  \n",
       "X     0.002709  0.185787  0.010357  0.142925  0.025175  \n",
       ".     0.080500  0.002339  0.057924  0.091114  0.052078  \n",
       "VERB  0.022817  0.031121  0.005588  0.090493  0.082577  \n",
       "ADJ   0.020405  0.010861  0.016949  0.078986  0.004608  \n",
       "DET   0.021970  0.000241  0.000483  0.009054  0.012313  \n",
       "NOUN  0.009627  0.043832  0.041936  0.176275  0.016884  \n",
       "PRON  0.007257  0.012223  0.004966  0.022918  0.033995  \n",
       "NUM   0.184062  0.027951  0.013381  0.034790  0.002974  \n",
       "PRT   0.058516  0.001635  0.002288  0.021576  0.010134  \n",
       "CONJ  0.042234  0.004693  0.000469  0.054435  0.055842  \n",
       "ADP   0.062921  0.001498  0.000856  0.017228  0.013162  \n",
       "ADV   0.030565  0.013621  0.006312  0.119601  0.081063  "
      ]
     },
     "execution_count": 17,
     "metadata": {},
     "output_type": "execute_result"
    }
   ],
   "source": [
    "# convert the matrix to a df for better readability\n",
    "tags_df = pd.DataFrame(tags_matrix, columns = list(T), index=list(T))\n",
    "tags_df"
   ]
  },
  {
   "cell_type": "code",
   "execution_count": 18,
   "metadata": {},
   "outputs": [
    {
     "data": {
      "text/plain": [
       "X       0.026623\n",
       ".       0.093812\n",
       "VERB    0.088505\n",
       "ADJ     0.044972\n",
       "DET     0.173502\n",
       "NOUN    0.223152\n",
       "PRON    0.065389\n",
       "NUM     0.080500\n",
       "PRT     0.002339\n",
       "CONJ    0.057924\n",
       "ADP     0.091114\n",
       "ADV     0.052078\n",
       "Name: ., dtype: float32"
      ]
     },
     "execution_count": 18,
     "metadata": {},
     "output_type": "execute_result"
    }
   ],
   "source": [
    "tags_df.loc['.', :]"
   ]
  },
  {
   "cell_type": "code",
   "execution_count": 19,
   "metadata": {},
   "outputs": [
    {
     "data": {
      "image/png": "[encoded data removed]",
      "text/plain": [
       "<Figure size 1296x864 with 2 Axes>"
      ]
     },
     "metadata": {
      "needs_background": "light"
     },
     "output_type": "display_data"
    }
   ],
   "source": [
    "# heatmap of tags matrix\n",
    "# T(i, j) means P(tag j given tag i)\n",
    "plt.figure(figsize=(18, 12))\n",
    "heat=sns.heatmap(tags_df,annot = True)\n",
    "#below 2 lines are for temporary fix for matplotlib regression feature which broke heatmap  between 3.1.0 and 3.1.1\n",
    "bottom, top = heat.get_ylim()\n",
    "heat.set_ylim(bottom + 0.5, top - 0.5)\n",
    "plt.show()\n"
   ]
  },
  {
   "cell_type": "code",
   "execution_count": 20,
   "metadata": {},
   "outputs": [
    {
     "data": {
      "image/png": "[encoded data removed]",
      "text/plain": [
       "<Figure size 1296x864 with 2 Axes>"
      ]
     },
     "metadata": {
      "needs_background": "light"
     },
     "output_type": "display_data"
    }
   ],
   "source": [
    "# frequent tags\n",
    "# filter the df to get P(t2, t1) > 0.5\n",
    "tags_frequent = tags_df[tags_df>0.5]\n",
    "plt.figure(figsize=(18, 12))\n",
    "tag_freq_heat=sns.heatmap(tags_frequent,annot = True)\n",
    "#below 2 lines are for temporary fix for matplotlib regression feature which broke heatmap  between 3.1.0 and 3.1.1\n",
    "bottom, top = tag_freq_heat.get_ylim()\n",
    "tag_freq_heat.set_ylim(bottom + 0.5, top - 0.5)\n",
    "plt.show()"
   ]
  },
  {
   "cell_type": "markdown",
   "metadata": {},
   "source": [
    "#### We observe that transition probabilities are between Noun and other parts of speech such as Adjective and Determinant are highest"
   ]
  },
  {
   "cell_type": "markdown",
   "metadata": {},
   "source": [
    "### Build the vanilla Viterbi based POS tagger"
   ]
  },
  {
   "cell_type": "code",
   "execution_count": 21,
   "metadata": {},
   "outputs": [
    {
     "data": {
      "text/plain": [
       "95589"
      ]
     },
     "execution_count": 21,
     "metadata": {},
     "output_type": "execute_result"
    }
   ],
   "source": [
    "len(train_tagged_words)"
   ]
  },
  {
   "cell_type": "code",
   "execution_count": 22,
   "metadata": {},
   "outputs": [],
   "source": [
    "# Vanilla Viterbi\n",
    "def Viterbi(words, train_bag = train_tagged_words):\n",
    "    state = []\n",
    "    T = list(set([pair[1] for pair in train_bag]))\n",
    "    \n",
    "    for key, word in enumerate(words):\n",
    "        #initialise list of probability column for a given observation\n",
    "        p = [] \n",
    "        for tag in T:\n",
    "            if key == 0:\n",
    "                transition_p = tags_df.loc['.', tag]\n",
    "            else:\n",
    "                transition_p = tags_df.loc[state[-1], tag]\n",
    "                \n",
    "            # compute emission and state probabilities\n",
    "            emission_p = word_given_tag(words[key], tag)[0]/word_given_tag(words[key], tag)[1]\n",
    "            state_probability = emission_p * transition_p    \n",
    "            p.append(state_probability)\n",
    "            \n",
    "        pmax = max(p)\n",
    "        # getting state for which probability is maximum\n",
    "        state_max = T[p.index(pmax)] \n",
    "        state.append(state_max)\n",
    "    return list(zip(words, state))\n",
    "\n"
   ]
  },
  {
   "cell_type": "code",
   "execution_count": 23,
   "metadata": {},
   "outputs": [
    {
     "data": {
      "text/plain": [
       "[[('Shearson', 'NOUN'),\n",
       "  ('``', '.'),\n",
       "  ('really', 'ADV'),\n",
       "  ('only', 'ADV'),\n",
       "  ('has', 'VERB'),\n",
       "  ('$', '.'),\n",
       "  ('300', 'NUM'),\n",
       "  ('million', 'NUM'),\n",
       "  ('*U*', 'X'),\n",
       "  ('of', 'ADP'),\n",
       "  ('capital', 'NOUN'),\n",
       "  (',', '.'),\n",
       "  (\"''\", '.'),\n",
       "  ('says', 'VERB'),\n",
       "  ('*T*-1', 'X'),\n",
       "  ('Mr.', 'NOUN'),\n",
       "  ('Bowman', 'NOUN'),\n",
       "  ('of', 'ADP'),\n",
       "  ('S&P', 'NOUN'),\n",
       "  ('.', '.')],\n",
       " [('ShareData', 'NOUN'),\n",
       "  ('develops', 'VERB'),\n",
       "  ('and', 'CONJ'),\n",
       "  ('markets', 'VERB'),\n",
       "  ('low-cost', 'ADJ'),\n",
       "  ('software', 'NOUN'),\n",
       "  (',', '.'),\n",
       "  ('peripheral', 'ADJ'),\n",
       "  ('equipment', 'NOUN'),\n",
       "  ('and', 'CONJ'),\n",
       "  ('accessories', 'NOUN'),\n",
       "  ('for', 'ADP'),\n",
       "  ('computers', 'NOUN'),\n",
       "  ('.', '.')],\n",
       " [('Moscow', 'NOUN'),\n",
       "  ('has', 'VERB'),\n",
       "  ('settled', 'VERB'),\n",
       "  ('pre-1917', 'ADJ'),\n",
       "  ('debts', 'NOUN'),\n",
       "  ('with', 'ADP'),\n",
       "  ('other', 'ADJ'),\n",
       "  ('countries', 'NOUN'),\n",
       "  ('in', 'ADP'),\n",
       "  ('recent', 'ADJ'),\n",
       "  ('years', 'NOUN'),\n",
       "  ('at', 'ADP'),\n",
       "  ('less', 'ADJ'),\n",
       "  ('than', 'ADP'),\n",
       "  ('face', 'NOUN'),\n",
       "  ('value', 'NOUN'),\n",
       "  ('.', '.')],\n",
       " [('When', 'ADV'),\n",
       "  ('test', 'NOUN'),\n",
       "  ('booklets', 'NOUN'),\n",
       "  ('were', 'VERB'),\n",
       "  ('passed', 'VERB'),\n",
       "  ('*-1', 'X'),\n",
       "  ('out', 'ADV'),\n",
       "  ('48', 'NUM'),\n",
       "  ('hours', 'NOUN'),\n",
       "  ('ahead', 'ADV'),\n",
       "  ('of', 'ADP'),\n",
       "  ('time', 'NOUN'),\n",
       "  ('*T*-2', 'X'),\n",
       "  (',', '.'),\n",
       "  ('she', 'PRON'),\n",
       "  ('says', 'VERB'),\n",
       "  ('0', 'X'),\n",
       "  ('she', 'PRON'),\n",
       "  ('copied', 'VERB'),\n",
       "  ('questions', 'NOUN'),\n",
       "  ('in', 'ADP'),\n",
       "  ('the', 'DET'),\n",
       "  ('social', 'ADJ'),\n",
       "  ('studies', 'NOUN'),\n",
       "  ('section', 'NOUN'),\n",
       "  ('and', 'CONJ'),\n",
       "  ('gave', 'VERB'),\n",
       "  ('the', 'DET'),\n",
       "  ('answers', 'NOUN'),\n",
       "  ('to', 'PRT'),\n",
       "  ('students', 'NOUN'),\n",
       "  ('.', '.')],\n",
       " [('The', 'DET'),\n",
       "  ('Life', 'NOUN'),\n",
       "  ('Insurance', 'NOUN'),\n",
       "  ('Co.', 'NOUN'),\n",
       "  ('of', 'ADP'),\n",
       "  ('Georgia', 'NOUN'),\n",
       "  ('has', 'VERB'),\n",
       "  ('officially', 'ADV'),\n",
       "  ('opened', 'VERB'),\n",
       "  ('an', 'DET'),\n",
       "  ('office', 'NOUN'),\n",
       "  ('in', 'ADP'),\n",
       "  ('Taipei', 'NOUN'),\n",
       "  ('.', '.')]]"
      ]
     },
     "execution_count": 23,
     "metadata": {},
     "output_type": "execute_result"
    }
   ],
   "source": [
    "# Running on entire test dataset would take more than 3-4hrs. \n",
    "# Let's test our Viterbi algorithm on a few sample sentences of test dataset\n",
    "\n",
    "random.seed(1234)\n",
    "\n",
    "# choose random 5 sents\n",
    "rndom = [random.randint(1,len(test_set)) for x in range(5)]\n",
    "\n",
    "# list of sents\n",
    "test_run = [test_set[i] for i in rndom]\n",
    "\n",
    "# list of tagged words\n",
    "test_run_base = [tup for sent in test_run for tup in sent]\n",
    "\n",
    "# list of untagged words\n",
    "test_tagged_words = [tup[0] for sent in test_run for tup in sent]\n",
    "test_run"
   ]
  },
  {
   "cell_type": "code",
   "execution_count": 24,
   "metadata": {},
   "outputs": [],
   "source": [
    "# tagging the test sentences\n",
    "start = time.time()\n",
    "tagged_seq = Viterbi(test_tagged_words)\n",
    "end = time.time()\n",
    "difference = end-start"
   ]
  },
  {
   "cell_type": "code",
   "execution_count": 25,
   "metadata": {},
   "outputs": [
    {
     "name": "stdout",
     "output_type": "stream",
     "text": [
      "Time taken in seconds:  23.029433488845825\n",
      "\n",
      "\n",
      "[('Shearson', 'NOUN'), ('``', '.'), ('really', 'ADV'), ('only', 'ADV'), ('has', 'VERB'), ('$', '.'), ('300', 'NUM'), ('million', 'NUM'), ('*U*', 'X'), ('of', 'ADP'), ('capital', 'NOUN'), (',', '.'), (\"''\", '.'), ('says', 'VERB'), ('*T*-1', 'X'), ('Mr.', 'NOUN'), ('Bowman', 'NOUN'), ('of', 'ADP'), ('S&P', 'NOUN'), ('.', '.'), ('ShareData', 'NOUN'), ('develops', 'X'), ('and', 'CONJ'), ('markets', 'NOUN'), ('low-cost', 'X'), ('software', 'NOUN'), (',', '.'), ('peripheral', 'ADJ'), ('equipment', 'NOUN'), ('and', 'CONJ'), ('accessories', 'NOUN'), ('for', 'ADP'), ('computers', 'NOUN'), ('.', '.'), ('Moscow', 'NOUN'), ('has', 'VERB'), ('settled', 'VERB'), ('pre-1917', 'X'), ('debts', 'NOUN'), ('with', 'ADP'), ('other', 'ADJ'), ('countries', 'NOUN'), ('in', 'ADP'), ('recent', 'ADJ'), ('years', 'NOUN'), ('at', 'ADP'), ('less', 'ADJ'), ('than', 'ADP'), ('face', 'NOUN'), ('value', 'NOUN'), ('.', '.'), ('When', 'ADV'), ('test', 'VERB'), ('booklets', 'NOUN'), ('were', 'VERB'), ('passed', 'VERB'), ('*-1', 'X'), ('out', 'PRT'), ('48', 'NUM'), ('hours', 'NOUN'), ('ahead', 'ADV'), ('of', 'ADP'), ('time', 'NOUN'), ('*T*-2', 'X'), (',', '.'), ('she', 'PRON'), ('says', 'VERB'), ('0', 'X'), ('she', 'PRON'), ('copied', 'X'), ('questions', 'NOUN'), ('in', 'ADP'), ('the', 'DET'), ('social', 'ADJ'), ('studies', 'NOUN'), ('section', 'NOUN'), ('and', 'CONJ'), ('gave', 'VERB'), ('the', 'DET'), ('answers', 'NOUN'), ('to', 'PRT'), ('students', 'NOUN'), ('.', '.'), ('The', 'DET'), ('Life', 'NOUN'), ('Insurance', 'NOUN'), ('Co.', 'NOUN'), ('of', 'ADP'), ('Georgia', 'NOUN'), ('has', 'VERB'), ('officially', 'ADV'), ('opened', 'VERB'), ('an', 'DET'), ('office', 'NOUN'), ('in', 'ADP'), ('Taipei', 'NOUN'), ('.', '.')]\n"
     ]
    }
   ],
   "source": [
    "print(\"Time taken in seconds: \", difference)\n",
    "print(\"\\n\")\n",
    "print(tagged_seq)"
   ]
  },
  {
   "cell_type": "code",
   "execution_count": 26,
   "metadata": {},
   "outputs": [
    {
     "name": "stdout",
     "output_type": "stream",
     "text": [
      "Accuracy of Vanilla Viterbi Algo: 0.9278350515463918\n"
     ]
    }
   ],
   "source": [
    "# accuracy\n",
    "check = [i for i, j in zip(tagged_seq, test_run_base) if i == j] \n",
    "vanilla_viterbi_accuracy = len(check)/len(tagged_seq)\n",
    "print('Accuracy of Vanilla Viterbi Algo:',vanilla_viterbi_accuracy)"
   ]
  },
  {
   "cell_type": "code",
   "execution_count": 27,
   "metadata": {},
   "outputs": [
    {
     "data": {
      "text/plain": [
       "[[('ShareData', 'NOUN'), (('develops', 'X'), ('develops', 'VERB'))],\n",
       " [('and', 'CONJ'), (('markets', 'NOUN'), ('markets', 'VERB'))],\n",
       " [('markets', 'VERB'), (('low-cost', 'X'), ('low-cost', 'ADJ'))],\n",
       " [('settled', 'VERB'), (('pre-1917', 'X'), ('pre-1917', 'ADJ'))],\n",
       " [('When', 'ADV'), (('test', 'VERB'), ('test', 'NOUN'))],\n",
       " [('*-1', 'X'), (('out', 'PRT'), ('out', 'ADV'))],\n",
       " [('she', 'PRON'), (('copied', 'X'), ('copied', 'VERB'))]]"
      ]
     },
     "execution_count": 27,
     "metadata": {},
     "output_type": "execute_result"
    }
   ],
   "source": [
    "#checking incorrectly tagged words\n",
    "incorrect_tagged_cases = [[test_run_base[i-1],j] for i, j in enumerate(zip(tagged_seq, test_run_base)) if j[0]!=j[1]]\n",
    "incorrect_tagged_cases"
   ]
  },
  {
   "cell_type": "markdown",
   "metadata": {},
   "source": [
    "The incorrect tagged cases are due to fact that when the algorithm hits an unknown word (i.e. not present in the training set hence emission probability is 0), it will assign the first tag to that word"
   ]
  },
  {
   "cell_type": "markdown",
   "metadata": {},
   "source": [
    "### Solve the problem of unknown words"
   ]
  },
  {
   "cell_type": "code",
   "execution_count": 28,
   "metadata": {},
   "outputs": [
    {
     "name": "stdout",
     "output_type": "stream",
     "text": [
      "Total Unknown words : 4\n",
      "\n",
      "\n",
      "Unknown Words : ['pre-1917', 'low-cost', 'develops', 'copied']\n"
     ]
    }
   ],
   "source": [
    "#Lets see how many unknown words we have (words that are present in test but not in train)\n",
    "\n",
    "training_vocabulary_set = V\n",
    "# building the test vocabulary to a set\n",
    "test_vocabulary_set = set([t for t in test_tagged_words])\n",
    "\n",
    "unknown_words = list(test_vocabulary_set - training_vocabulary_set)\n",
    "print(\"Total Unknown words :\", len(unknown_words))\n",
    "print(\"\\n\")\n",
    "print(\"Unknown Words :\", unknown_words)"
   ]
  },
  {
   "cell_type": "markdown",
   "metadata": {},
   "source": [
    "### Modified Viterbi 1\n",
    "\n",
    "#### Use transition probability of tags when emission probability is zero (in case of unknown words)"
   ]
  },
  {
   "cell_type": "code",
   "execution_count": 29,
   "metadata": {},
   "outputs": [],
   "source": [
    "def Modified_viterbi_trans_prob(words, train_bag = train_tagged_words):\n",
    "    state = []\n",
    "    T = list(set([pair[1] for pair in train_bag]))\n",
    "    \n",
    "    for key, word in enumerate(words):\n",
    "        #initialise list of probability column for a given observation\n",
    "        p = [] \n",
    "        p_transition =[] # list for storing transition probabilities\n",
    "        for tag in T:\n",
    "            if key == 0:\n",
    "                transition_p = tags_df.loc['.', tag]\n",
    "            else:\n",
    "                transition_p = tags_df.loc[state[-1], tag]\n",
    "                \n",
    "            # compute emission and state probabilities\n",
    "            emission_p = word_given_tag(words[key], tag)[0]/word_given_tag(words[key], tag)[1]\n",
    "            state_probability = emission_p * transition_p    \n",
    "            p.append(state_probability)\n",
    "            p_transition.append(transition_p)\n",
    "            \n",
    "        pmax = max(p)\n",
    "        state_max = T[p.index(pmax)] \n",
    "        \n",
    "      \n",
    "        # if probability is zero (unknown word) then use transition probability\n",
    "        if(pmax==0):\n",
    "            pmax = max(p_transition)\n",
    "            state_max = T[p_transition.index(pmax)]\n",
    "                           \n",
    "        else:\n",
    "            state_max = T[p.index(pmax)] \n",
    "        \n",
    "        state.append(state_max)\n",
    "    return list(zip(words, state))"
   ]
  },
  {
   "cell_type": "code",
   "execution_count": 30,
   "metadata": {},
   "outputs": [
    {
     "name": "stdout",
     "output_type": "stream",
     "text": [
      "Time taken in seconds:  21.624194145202637\n",
      "Modified_viterbi_trans_prob Accuracy:  93.81443298969072\n"
     ]
    }
   ],
   "source": [
    "# tagging the test sentences\n",
    "start = time.time()\n",
    "tagged_seq = Modified_viterbi_trans_prob(test_tagged_words)\n",
    "end = time.time()\n",
    "difference = end-start\n",
    "\n",
    "print(\"Time taken in seconds: \", difference)\n",
    "\n",
    "# accuracy\n",
    "check = [i for i, j in zip(tagged_seq, test_run_base) if i == j] \n",
    "accuracy_viterbi_modified = len(check)/len(tagged_seq)\n",
    "print('Modified_viterbi_trans_prob Accuracy: ',accuracy_viterbi_modified*100)"
   ]
  },
  {
   "cell_type": "markdown",
   "metadata": {},
   "source": [
    "We can see that our modified viterbi algoroth has increased accuracy of 93.81% as compared to 92.78% in Vanilla Viterbi Algorithm"
   ]
  },
  {
   "cell_type": "markdown",
   "metadata": {},
   "source": [
    "### Lexicons and rule based tagger"
   ]
  },
  {
   "cell_type": "code",
   "execution_count": 31,
   "metadata": {},
   "outputs": [
    {
     "name": "stdout",
     "output_type": "stream",
     "text": [
      "The accuracy of the Unigram Tagger is - 0.911735797129939\n"
     ]
    }
   ],
   "source": [
    "# Lexicon (or unigram tagger)\n",
    "\n",
    "unigram_tagger = nltk.UnigramTagger(train_set)\n",
    "accuracy_unigram_tagger = unigram_tagger.evaluate(test_set)\n",
    "print(\"The accuracy of the Unigram Tagger is -\", accuracy_unigram_tagger)"
   ]
  },
  {
   "cell_type": "markdown",
   "metadata": {},
   "source": [
    "#### Combining unigram tagger with a rule based regex tagger\n"
   ]
  },
  {
   "cell_type": "code",
   "execution_count": 32,
   "metadata": {},
   "outputs": [],
   "source": [
    "# patterns for tagging using a rule based tagger\n",
    "patterns = [\n",
    "    (r'^([0-9]|[aA-zZ])+\\-([0-9]|[aA-zZ])*$','ADJ'), # words such as '10-lap','30-day','York-based'\n",
    "    (r'.*able$', 'ADJ'),                     # words ending with 'able' such as 'questionable'\n",
    "    (r'.*ful$', 'ADJ'),                      # words ending with 'ful' such as 'useful'\n",
    "    (r'.*ous$', 'ADJ'),                      # words ending with 'ous' such as 'Previous'\n",
    "    \n",
    "    (r'.*\\'s$', 'NOUN'),                     # possessive nouns\n",
    "    (r'.*s$', 'NOUN'),                       # plural nouns\n",
    "    (r'^[aA-zZ].*[0-9]+','NOUN'),            # Alpha Numeric such as Door Number, Street Number etc\n",
    "    (r'.*ers$', 'NOUN'),                     # words ending with 'ers' such as 'filters','workers'\n",
    "    (r'.*ment$', 'NOUN'),                    # words ending with 'ment' such as 'reinvestment' \n",
    "    (r'.*town$', 'NOUN'),                    # words ending with 'town' such as 'town','downtown'  \n",
    "    (r'.*ness$', 'NOUN'),                    # words ending with 'ness' such as 'sluggishness' \n",
    "    (r'^[A-Z]+([a-z]{1,2})?\\.?$','NOUN'),    # words such as 'Nov.','Mr.','Inc.'\n",
    "    \n",
    "    (r'[aA-zZ]+(ed|ing|es)$', 'VERB'),       # words ending with 'ed' or 'ing' or 'es'    \n",
    "    (r'.*ly$', 'ADV'),                       # words ending with 'ly'\n",
    "    \n",
    "    (r'^[0-9]+(.[0-9]+)?$', 'NUM'),          # cardinal numbers such as 61, 1956, 9.8, 8.45, 352.7        \n",
    "    (r'^(0|([*|-|$].*))','X'),               # words such as '*', '0', *-1', '*T*-1', '*ICH*-1', '*?*'   \n",
    "    \n",
    "    (r'(The|the|A|a|An|an|That|that|This|this|Those|those|These|these)$', 'DET'), # determinants     \n",
    "    (r'.*', 'NOUN')  \n",
    "    ]\n",
    "    "
   ]
  },
  {
   "cell_type": "code",
   "execution_count": 33,
   "metadata": {},
   "outputs": [
    {
     "name": "stdout",
     "output_type": "stream",
     "text": [
      "The accuracy of the Unigram Tagger with rule based backoff is:  0.9598977786514645\n"
     ]
    }
   ],
   "source": [
    "# Rule based tagger\n",
    "rule_based_tagger = nltk.RegexpTagger(patterns)\n",
    "\n",
    "# unigram tagger backed up by the rule-based tagger\n",
    "rule_based_unigram_tagger = nltk.UnigramTagger(train_set, backoff = rule_based_tagger)\n",
    "accuracy_rule_based_unigram_tagger=rule_based_unigram_tagger.evaluate(test_set)\n",
    "print(\"The accuracy of the Unigram Tagger with rule based backoff is: \",+accuracy_rule_based_unigram_tagger)"
   ]
  },
  {
   "cell_type": "code",
   "execution_count": 34,
   "metadata": {},
   "outputs": [
    {
     "name": "stdout",
     "output_type": "stream",
     "text": [
      "The accuracy of the Bigram Tagger with rule based unigram backoff is:  0.9640259484961667\n"
     ]
    }
   ],
   "source": [
    "# Bigram tagger backed up by the rule-based-unigram tagger\n",
    "bigram_tagger = nltk.BigramTagger(train_set, backoff = rule_based_unigram_tagger)\n",
    "accuracy_bigram_tagger=bigram_tagger.evaluate(test_set)\n",
    "print(\"The accuracy of the Bigram Tagger with rule based unigram backoff is: \",+accuracy_bigram_tagger)"
   ]
  },
  {
   "cell_type": "code",
   "execution_count": 35,
   "metadata": {},
   "outputs": [
    {
     "name": "stdout",
     "output_type": "stream",
     "text": [
      "The accuracy of the trigram Tagger with Bigram tagger as backoff is:  0.9630430509140947\n"
     ]
    }
   ],
   "source": [
    "#trigram tagger\n",
    "trigram_tagger = nltk.TrigramTagger(train_set, backoff = bigram_tagger)\n",
    "accuracy_trigram_tagger=trigram_tagger.evaluate(test_set)\n",
    "print(\"The accuracy of the trigram Tagger with Bigram tagger as backoff is: \",+accuracy_trigram_tagger)"
   ]
  },
  {
   "cell_type": "markdown",
   "metadata": {},
   "source": [
    "#### Lets modify Viterbi Algo to include Trigram tagger as backoff"
   ]
  },
  {
   "cell_type": "code",
   "execution_count": 36,
   "metadata": {},
   "outputs": [],
   "source": [
    "# A trigram tagger backed off by a rule based tagger.\n",
    "\n",
    "def trigram_tagger(word, train_set = train_set):\n",
    "    \n",
    "    # specify patterns for tagging. I have identified most of the patterns from the first 100 sentences in universal dataset\n",
    "    patterns = [\n",
    "    (r'^([0-9]|[aA-zZ])+\\-([0-9]|[aA-zZ])*$','ADJ'), # words such as '10-lap','30-day','York-based'\n",
    "    (r'.*able$', 'ADJ'),                     # words ending with 'able' such as 'questionable'\n",
    "    (r'.*ful$', 'ADJ'),                      # words ending with 'ful' such as 'useful'\n",
    "    (r'.*ous$', 'ADJ'),                      # words ending with 'ous' such as 'Previous'\n",
    "    \n",
    "    (r'.*\\'s$', 'NOUN'),                     # possessive nouns\n",
    "    (r'.*s$', 'NOUN'),                       # plural nouns\n",
    "    (r'^[aA-zZ].*[0-9]+','NOUN'),            # Alpha Numeric such as Door Number, Street Number etc\n",
    "    (r'.*ers$', 'NOUN'),                     # words ending with 'ers' such as 'filters','workers'\n",
    "    (r'.*ment$', 'NOUN'),                    # words ending with 'ment' such as 'reinvestment' \n",
    "    (r'.*town$', 'NOUN'),                    # words ending with 'town' such as 'town','downtown'  \n",
    "    (r'.*ness$', 'NOUN'),                    # words ending with 'ness' such as 'sluggishness' \n",
    "    (r'^[A-Z]+([a-z]{1,2})?\\.?$','NOUN'),    # words such as 'Nov.','Mr.','Inc.'\n",
    "    \n",
    "    (r'[aA-zZ]+(ed|ing|es)$', 'VERB'),       # words ending with 'ed' or 'ing' or 'es'    \n",
    "    (r'.*ly$', 'ADV'),                       # words ending with 'ly'\n",
    "    \n",
    "    (r'^[0-9]+(.[0-9]+)?$', 'NUM'),          # cardinal numbers such as 61, 1956, 9.8, 8.45, 352.7        \n",
    "    (r'^(0|([*|-|$].*))','X'),               # words such as '*', '0', *-1', '*T*-1', '*ICH*-1', '*?*'   \n",
    "    \n",
    "    (r'(The|the|A|a|An|an|That|that|This|this|Those|those|These|these)$', 'DET'), # determinants     \n",
    "    (r'.*', 'NOUN')  \n",
    "    ]\n",
    "    \n",
    "    rule_based_tagger = nltk.RegexpTagger(patterns)\n",
    "\n",
    "    # trigram backed up by the regex tagger\n",
    "    trigram_regex_tagger = nltk.TrigramTagger(train_set, backoff = rule_based_tagger)\n",
    "    return trigram_regex_tagger.tag_sents([[(word)]])    "
   ]
  },
  {
   "cell_type": "code",
   "execution_count": 37,
   "metadata": {},
   "outputs": [],
   "source": [
    "# Modified Viterbi Algo- Technique II - Backoff trigram rule based tagger\n",
    "def Viterbi_tri_backoff(words, train_bag = train_tagged_words):\n",
    "    state = []\n",
    "    T = sorted(list(set([pair[1] for pair in train_bag])))\n",
    "    V = [i[0] for i in train_bag]\n",
    "    \n",
    "    # use the trigram tagger backed up by the rule based tagger for unknown words.\n",
    "    for key, word in enumerate(words):\n",
    "        if word not in V:\n",
    "            unknown_word_tag = trigram_tagger(word)\n",
    "            for sent in unknown_word_tag:\n",
    "                for tup in sent:\n",
    "                    state.append(tup[1])\n",
    "        else:            \n",
    "            p = [] \n",
    "            for tag in T:\n",
    "                if key == 0:\n",
    "                    transition_p = tags_df.loc['.', tag]\n",
    "                else:\n",
    "                    transition_p = tags_df.loc[state[-1], tag]\n",
    "                \n",
    "                # compute emission and state probabilities\n",
    "                emission_p = word_given_tag(words[key], tag)[0]/word_given_tag(words[key], tag)[1]\n",
    "                state_probability = emission_p * transition_p    \n",
    "                p.append(state_probability)\n",
    "            \n",
    "            pmax = max(p)\n",
    "            # getting state for which probability is maximum\n",
    "            state_max = T[p.index(pmax)] \n",
    "            state.append(state_max)\n",
    "    return list(zip(words, state))"
   ]
  },
  {
   "cell_type": "markdown",
   "metadata": {},
   "source": [
    "#### Evaluating tagging accuracy"
   ]
  },
  {
   "cell_type": "code",
   "execution_count": 38,
   "metadata": {},
   "outputs": [
    {
     "name": "stdout",
     "output_type": "stream",
     "text": [
      "Time taken in seconds:  38.30050992965698\n",
      "The accuracy of Viterbi Algo with rule based Trigram tagger as backoff is::  0.9587628865979382\n"
     ]
    }
   ],
   "source": [
    "# tagging the test sentences.\n",
    "start = time.time()\n",
    "viterbi_trigram_tagged_seq = Viterbi_tri_backoff(test_tagged_words)\n",
    "end = time.time()\n",
    "difference = end-start\n",
    "\n",
    "print(\"Time taken in seconds: \", difference)\n",
    "\n",
    "# accuracy\n",
    "viterbi_trigram_word_check = [i for i, j in zip(viterbi_trigram_tagged_seq, test_run_base) if i == j]\n",
    "\n",
    "viterbi_trigram_rule_accuracy = len(viterbi_trigram_word_check)/len(viterbi_trigram_tagged_seq)\n",
    "print(\"The accuracy of Viterbi Algo with rule based Trigram tagger as backoff is:: \",+viterbi_trigram_rule_accuracy)"
   ]
  },
  {
   "cell_type": "code",
   "execution_count": 39,
   "metadata": {},
   "outputs": [
    {
     "data": {
      "text/plain": [
       "[(('develops', 'NOUN'), ('develops', 'VERB')),\n",
       " (('markets', 'NOUN'), ('markets', 'VERB')),\n",
       " (('test', 'VERB'), ('test', 'NOUN')),\n",
       " (('out', 'PRT'), ('out', 'ADV'))]"
      ]
     },
     "execution_count": 39,
     "metadata": {},
     "output_type": "execute_result"
    }
   ],
   "source": [
    "viterbi_trigram_incorrect_tagged_cases = [j for i, j in enumerate(zip(viterbi_trigram_tagged_seq, test_run_base)) if j[0]!=j[1]]\n",
    "viterbi_trigram_incorrect_tagged_cases"
   ]
  },
  {
   "cell_type": "markdown",
   "metadata": {},
   "source": [
    "### Compare the tagging accuracies of the modifications with the vanilla Viterbi algorithm"
   ]
  },
  {
   "cell_type": "code",
   "execution_count": 40,
   "metadata": {},
   "outputs": [
    {
     "data": {
      "text/html": [
       "<div>\n",
       "<style scoped>\n",
       "    .dataframe tbody tr th:only-of-type {\n",
       "        vertical-align: middle;\n",
       "    }\n",
       "\n",
       "    .dataframe tbody tr th {\n",
       "        vertical-align: top;\n",
       "    }\n",
       "\n",
       "    .dataframe thead th {\n",
       "        text-align: right;\n",
       "    }\n",
       "</style>\n",
       "<table border=\"1\" class=\"dataframe\">\n",
       "  <thead>\n",
       "    <tr style=\"text-align: right;\">\n",
       "      <th></th>\n",
       "      <th>Algorithm</th>\n",
       "      <th>Accuracy</th>\n",
       "    </tr>\n",
       "  </thead>\n",
       "  <tbody>\n",
       "    <tr>\n",
       "      <td>0</td>\n",
       "      <td>Vanilla Viterbi</td>\n",
       "      <td>92.783505</td>\n",
       "    </tr>\n",
       "    <tr>\n",
       "      <td>1</td>\n",
       "      <td>Vanilla Viterbi Modified</td>\n",
       "      <td>93.814433</td>\n",
       "    </tr>\n",
       "    <tr>\n",
       "      <td>2</td>\n",
       "      <td>Unigram Tagger</td>\n",
       "      <td>91.173580</td>\n",
       "    </tr>\n",
       "    <tr>\n",
       "      <td>3</td>\n",
       "      <td>Unigram + RegexpTagger</td>\n",
       "      <td>95.989778</td>\n",
       "    </tr>\n",
       "    <tr>\n",
       "      <td>4</td>\n",
       "      <td>Bigram Tagger + Unigram_tagger</td>\n",
       "      <td>96.402595</td>\n",
       "    </tr>\n",
       "    <tr>\n",
       "      <td>5</td>\n",
       "      <td>Trigram Tagger + Bigram_tagger</td>\n",
       "      <td>96.304305</td>\n",
       "    </tr>\n",
       "    <tr>\n",
       "      <td>6</td>\n",
       "      <td>Viterbi + Trigram_tagger</td>\n",
       "      <td>95.876289</td>\n",
       "    </tr>\n",
       "  </tbody>\n",
       "</table>\n",
       "</div>"
      ],
      "text/plain": [
       "                        Algorithm   Accuracy\n",
       "0                 Vanilla Viterbi  92.783505\n",
       "1        Vanilla Viterbi Modified  93.814433\n",
       "2                  Unigram Tagger  91.173580\n",
       "3          Unigram + RegexpTagger  95.989778\n",
       "4  Bigram Tagger + Unigram_tagger  96.402595\n",
       "5  Trigram Tagger + Bigram_tagger  96.304305\n",
       "6        Viterbi + Trigram_tagger  95.876289"
      ]
     },
     "execution_count": 40,
     "metadata": {},
     "output_type": "execute_result"
    }
   ],
   "source": [
    "evalute_data = [['Vanilla Viterbi', vanilla_viterbi_accuracy * 100], \n",
    "                  ['Vanilla Viterbi Modified', accuracy_viterbi_modified * 100], \n",
    "                  ['Unigram Tagger', accuracy_unigram_tagger * 100],\n",
    "                  ['Unigram + RegexpTagger', accuracy_rule_based_unigram_tagger * 100],\n",
    "                  ['Bigram Tagger + Unigram_tagger', accuracy_bigram_tagger*100],\n",
    "                  ['Trigram Tagger + Bigram_tagger', accuracy_trigram_tagger*100],\n",
    "                  ['Viterbi + Trigram_tagger', viterbi_trigram_rule_accuracy * 100]]\n",
    "\n",
    "evalute_data_acccuracy_df = pd.DataFrame(evalute_data, columns = ['Algorithm', 'Accuracy'])\n",
    "evalute_data_acccuracy_df.reset_index()\n",
    "evalute_data_acccuracy_df"
   ]
  },
  {
   "cell_type": "code",
   "execution_count": 41,
   "metadata": {
    "scrolled": true
   },
   "outputs": [
    {
     "data": {
      "text/plain": [
       "[Text(0, 0, 'Vanilla Viterbi'),\n",
       " Text(0, 0, 'Vanilla Viterbi Modified'),\n",
       " Text(0, 0, 'Unigram Tagger'),\n",
       " Text(0, 0, 'Unigram + RegexpTagger'),\n",
       " Text(0, 0, 'Bigram Tagger + Unigram_tagger'),\n",
       " Text(0, 0, 'Trigram Tagger + Bigram_tagger'),\n",
       " Text(0, 0, 'Viterbi + Trigram_tagger')]"
      ]
     },
     "execution_count": 41,
     "metadata": {},
     "output_type": "execute_result"
    },
    {
     "data": {
      "image/png": "[encoded data removed]",
      "text/plain": [
       "<Figure size 1120x640 with 1 Axes>"
      ]
     },
     "metadata": {
      "needs_background": "light"
     },
     "output_type": "display_data"
    }
   ],
   "source": [
    "fig, ax1 = plt.subplots(figsize=(14,8),dpi=80)\n",
    "bar = sns.barplot(x='Algorithm', y='Accuracy', data = evalute_data_acccuracy_df)\n",
    "bar.set_xticklabels(bar.get_xticklabels(), rotation=45)"
   ]
  },
  {
   "cell_type": "markdown",
   "metadata": {},
   "source": [
    "### List down cases which were incorrectly tagged by original POS tagger and got corrected by your modifications"
   ]
  },
  {
   "cell_type": "code",
   "execution_count": 42,
   "metadata": {},
   "outputs": [],
   "source": [
    "#function to compare taggers\n",
    "def compareAlgos(sentence):\n",
    "    words = word_tokenize(sentence)\n",
    "    tagged_seq = Viterbi(words)\n",
    "    print(\"\\033[1m\" + 'Vanilla Viterbi Tagged Sentence:' + \"\\033[0m\")\n",
    "    print(tagged_seq)\n",
    "    print('\\n')\n",
    "\n",
    "    tagged_seq_modified1 = Modified_viterbi_trans_prob(words)\n",
    "    print(\"\\033[1m\" + 'Modified Veterbi techniques 1 Sentence:' + \"\\033[0m\")\n",
    "    print(tagged_seq_modified1)\n",
    "    print('\\n')\n",
    "    tagged_seq_modified2 = Viterbi_tri_backoff(words)\n",
    "    print(\"\\033[1m\" + 'Modified Veterbi techniques 2 (trigram backoff tagged) Sentence:' + \"\\033[0m\")\n",
    "    print(tagged_seq_modified2)\n",
    "\n",
    "    "
   ]
  },
  {
   "cell_type": "code",
   "execution_count": 43,
   "metadata": {},
   "outputs": [
    {
     "name": "stdout",
     "output_type": "stream",
     "text": [
      "\u001b[1mVanilla Viterbi Tagged Sentence:\u001b[0m\n",
      "[('Android', 'X'), ('is', 'VERB'), ('a', 'DET'), ('mobile', 'ADJ'), ('operating', 'NOUN'), ('system', 'NOUN'), ('developed', 'VERB'), ('by', 'ADP'), ('Google', 'X'), ('.', '.')]\n",
      "\n",
      "\n",
      "\u001b[1mModified Veterbi techniques 1 Sentence:\u001b[0m\n",
      "[('Android', 'NOUN'), ('is', 'VERB'), ('a', 'DET'), ('mobile', 'ADJ'), ('operating', 'NOUN'), ('system', 'NOUN'), ('developed', 'VERB'), ('by', 'ADP'), ('Google', 'DET'), ('.', '.')]\n",
      "\n",
      "\n",
      "\u001b[1mModified Veterbi techniques 2 (trigram backoff tagged) Sentence:\u001b[0m\n",
      "[('Android', 'NOUN'), ('is', 'VERB'), ('a', 'DET'), ('mobile', 'ADJ'), ('operating', 'NOUN'), ('system', 'NOUN'), ('developed', 'VERB'), ('by', 'ADP'), ('Google', 'NOUN'), ('.', '.')]\n"
     ]
    }
   ],
   "source": [
    "compareAlgos(\"Android is a mobile operating system developed by Google.\")"
   ]
  },
  {
   "cell_type": "markdown",
   "metadata": {},
   "source": [
    "<b>Android was tagged as X initally which got correctly recognized as NOUN later</b>"
   ]
  },
  {
   "cell_type": "code",
   "execution_count": 44,
   "metadata": {},
   "outputs": [
    {
     "name": "stdout",
     "output_type": "stream",
     "text": [
      "\u001b[1mVanilla Viterbi Tagged Sentence:\u001b[0m\n",
      "[('Google', 'X'), ('and', 'CONJ'), ('Twitter', 'X'), ('made', 'VERB'), ('a', 'DET'), ('deal', 'NOUN'), ('in', 'ADP'), ('2015', 'X'), ('that', 'ADP'), ('gave', 'VERB'), ('Google', 'X'), ('access', 'NOUN'), ('to', 'PRT'), ('Twitter', 'X'), (\"'s\", 'PRT'), ('firehose', 'X'), ('.', '.')]\n",
      "\n",
      "\n",
      "\u001b[1mModified Veterbi techniques 1 Sentence:\u001b[0m\n",
      "[('Google', 'NOUN'), ('and', 'CONJ'), ('Twitter', 'NOUN'), ('made', 'VERB'), ('a', 'DET'), ('deal', 'NOUN'), ('in', 'ADP'), ('2015', 'DET'), ('that', 'ADP'), ('gave', 'VERB'), ('Google', 'X'), ('access', 'NOUN'), ('to', 'PRT'), ('Twitter', 'VERB'), (\"'s\", 'PRT'), ('firehose', 'VERB'), ('.', '.')]\n",
      "\n",
      "\n",
      "\u001b[1mModified Veterbi techniques 2 (trigram backoff tagged) Sentence:\u001b[0m\n",
      "[('Google', 'NOUN'), ('and', 'CONJ'), ('Twitter', 'NOUN'), ('made', 'VERB'), ('a', 'DET'), ('deal', 'NOUN'), ('in', 'ADP'), ('2015', 'NUM'), ('that', 'ADP'), ('gave', 'VERB'), ('Google', 'NOUN'), ('access', 'NOUN'), ('to', 'PRT'), ('Twitter', 'NOUN'), (\"'s\", 'PRT'), ('firehose', 'NOUN'), ('.', '.')]\n"
     ]
    }
   ],
   "source": [
    "compareAlgos(\"Google and Twitter made a deal in 2015 that gave Google access to Twitter's firehose.\")"
   ]
  },
  {
   "cell_type": "markdown",
   "metadata": {},
   "source": [
    "<b>Words like Google,Twitter,firehose which were tagged as X initially are getting correctly identified as Noun in the trigram approach</b>"
   ]
  },
  {
   "cell_type": "code",
   "execution_count": 45,
   "metadata": {},
   "outputs": [
    {
     "name": "stdout",
     "output_type": "stream",
     "text": [
      "\u001b[1mVanilla Viterbi Tagged Sentence:\u001b[0m\n",
      "[('The', 'DET'), ('2018', 'X'), ('FIFA', 'X'), ('World', 'NOUN'), ('Cup', 'X'), ('is', 'VERB'), ('the', 'DET'), ('21st', 'X'), ('FIFA', 'X'), ('World', 'NOUN'), ('Cup', 'X'), (',', '.'), ('an', 'DET'), ('international', 'ADJ'), ('football', 'NOUN'), ('tournament', 'X'), ('contested', 'X'), ('once', 'ADV'), ('every', 'DET'), ('four', 'NUM'), ('years', 'NOUN'), ('.', '.')]\n",
      "\n",
      "\n",
      "\u001b[1mModified Veterbi techniques 1 Sentence:\u001b[0m\n",
      "[('The', 'DET'), ('2018', 'NOUN'), ('FIFA', 'NOUN'), ('World', 'NOUN'), ('Cup', 'NOUN'), ('is', 'VERB'), ('the', 'DET'), ('21st', 'NOUN'), ('FIFA', 'NOUN'), ('World', 'NOUN'), ('Cup', 'NOUN'), (',', '.'), ('an', 'DET'), ('international', 'ADJ'), ('football', 'NOUN'), ('tournament', 'NOUN'), ('contested', 'NOUN'), ('once', 'ADV'), ('every', 'DET'), ('four', 'NUM'), ('years', 'NOUN'), ('.', '.')]\n",
      "\n",
      "\n",
      "\u001b[1mModified Veterbi techniques 2 (trigram backoff tagged) Sentence:\u001b[0m\n",
      "[('The', 'DET'), ('2018', 'NUM'), ('FIFA', 'NOUN'), ('World', 'NOUN'), ('Cup', 'NOUN'), ('is', 'VERB'), ('the', 'DET'), ('21st', 'NOUN'), ('FIFA', 'NOUN'), ('World', 'NOUN'), ('Cup', 'NOUN'), (',', '.'), ('an', 'DET'), ('international', 'ADJ'), ('football', 'NOUN'), ('tournament', 'NOUN'), ('contested', 'VERB'), ('once', 'ADV'), ('every', 'DET'), ('four', 'NUM'), ('years', 'NOUN'), ('.', '.')]\n"
     ]
    }
   ],
   "source": [
    "compareAlgos(\"The 2018 FIFA World Cup is the 21st FIFA World Cup, an international football tournament contested once every four years.\")"
   ]
  },
  {
   "cell_type": "markdown",
   "metadata": {},
   "source": [
    "<b>FIFA, CUP got corrected to NOUN. <br>\n",
    "'contested' was tagged as X initially and was tagged and VERB correctly later. </b>"
   ]
  },
  {
   "cell_type": "code",
   "execution_count": 46,
   "metadata": {},
   "outputs": [
    {
     "name": "stdout",
     "output_type": "stream",
     "text": [
      "\u001b[1mVanilla Viterbi Tagged Sentence:\u001b[0m\n",
      "[('NASA', 'X'), ('invited', 'X'), ('social', 'ADJ'), ('media', 'NOUN'), ('users', 'NOUN'), ('to', 'PRT'), ('experience', 'NOUN'), ('the', 'DET'), ('launch', 'NOUN'), ('of', 'ADP'), ('ICESAT-2', 'X'), ('Satellite', 'X'), ('.', '.')]\n",
      "\n",
      "\n",
      "\u001b[1mModified Veterbi techniques 1 Sentence:\u001b[0m\n",
      "[('NASA', 'NOUN'), ('invited', 'NOUN'), ('social', 'ADJ'), ('media', 'NOUN'), ('users', 'NOUN'), ('to', 'PRT'), ('experience', 'NOUN'), ('the', 'DET'), ('launch', 'NOUN'), ('of', 'ADP'), ('ICESAT-2', 'DET'), ('Satellite', 'NOUN'), ('.', '.')]\n",
      "\n",
      "\n",
      "\u001b[1mModified Veterbi techniques 2 (trigram backoff tagged) Sentence:\u001b[0m\n",
      "[('NASA', 'NOUN'), ('invited', 'VERB'), ('social', 'ADJ'), ('media', 'NOUN'), ('users', 'NOUN'), ('to', 'PRT'), ('experience', 'NOUN'), ('the', 'DET'), ('launch', 'NOUN'), ('of', 'ADP'), ('ICESAT-2', 'ADJ'), ('Satellite', 'NOUN'), ('.', '.')]\n"
     ]
    }
   ],
   "source": [
    "compareAlgos(\"NASA invited social media users to experience the launch of ICESAT-2 Satellite.\")"
   ]
  },
  {
   "cell_type": "markdown",
   "metadata": {},
   "source": [
    "<b>'invited' got corrected to VERB, 'NASA' and 'Satellite' got corrected to NOUN</b>"
   ]
  },
  {
   "cell_type": "code",
   "execution_count": null,
   "metadata": {},
   "outputs": [],
   "source": []
  }
 ],
 "metadata": {
  "kernelspec": {
   "display_name": "Python 3",
   "language": "python",
   "name": "python3"
  },
  "language_info": {
   "codemirror_mode": {
    "name": "ipython",
    "version": 3
   },
   "file_extension": ".py",
   "mimetype": "text/x-python",
   "name": "python",
   "nbconvert_exporter": "python",
   "pygments_lexer": "ipython3",
   "version": "3.7.4"
  }
 },
 "nbformat": 4,
 "nbformat_minor": 2
}
